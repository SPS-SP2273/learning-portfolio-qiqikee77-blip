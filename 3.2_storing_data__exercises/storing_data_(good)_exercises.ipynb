{
 "cells": [
  {
   "attachments": {},
   "cell_type": "markdown",
   "id": "123456",
   "metadata": {},
   "source": [
    "<div style=\"text-align:left;font-size:2em\"><span style=\"font-weight:bolder;font-size:1.25em\">SP2273 | Learning Portfolio</span><br><br><span style=\"font-weight:bold;color:darkred\">Storing Data (Good) Exercises</span></div>"
   ]
  },
  {
   "cell_type": "markdown",
   "id": "245e31d9",
   "metadata": {},
   "source": [
    "#### Exercise 1"
   ]
  },
  {
   "cell_type": "markdown",
   "id": "f281a417",
   "metadata": {},
   "source": [
    "Subsetting: *subsettting means to select a subset of data in a list or array*\n",
    "\n",
    "Indexing: Accessing a specific element in a list or array using the index position of the element in that list or array. The index position is determined by its position in the sequence of elements. It can be accessed by counting the position of the element from the front or from the back of the sequence (reverse indexing). \n",
    "*Indexing refers to selecting one element*\n",
    "\n",
    "Slicing: *slicing refers to selecting a range of elements*\n",
    "\n",
    "Masking: Masking means to hide or cover up \"False\" data in a True/False (list) or array. \n",
    "*Masking only works with NumPy arrays, not Python lists*"
   ]
  },
  {
   "cell_type": "markdown",
   "id": "e9291236",
   "metadata": {},
   "source": [
    "#### Exercise 2"
   ]
  },
  {
   "cell_type": "code",
   "execution_count": 14,
   "id": "8c85968e",
   "metadata": {},
   "outputs": [
    {
     "name": "stdout",
     "output_type": "stream",
     "text": [
      "[['1' 'A']\n",
      " ['3' 'C']\n",
      " ['2' 'B']\n",
      " ['4' 'D']\n",
      " ['5' 'E']\n",
      " ['7' 'G']\n",
      " ['6' 'F']\n",
      " ['8' 'H']\n",
      " ['10' 'J']\n",
      " ['9' 'I']]\n"
     ]
    }
   ],
   "source": [
    "import numpy as np\n",
    "np_array_2d = np.array([[1, \"A\"], [3, \"C\"], [2, \"B\"], [4, \"D\"],\n",
    "                        [5, \"E\"], [7, \"G\"], [6, \"F\"], [8, \"H\"],\n",
    "                        [10, \"J\"], [9, \"I\"]])\n",
    "long_np_array = np_array_2d[:]\n",
    "print(np_array_2d)"
   ]
  },
  {
   "cell_type": "code",
   "execution_count": null,
   "id": "5ef1a2e5",
   "metadata": {},
   "outputs": [
    {
     "name": "stdout",
     "output_type": "stream",
     "text": [
      "['1' '3' '2' '4' '5' '7' '6' '8' '10' '9']\n"
     ]
    }
   ],
   "source": [
    "numbers_np_array = long_np_array[:,0] \n",
    "# first position in bracket indicates the index/ elements to be selected\n",
    "# one number at the first position refers to the index of one element to be selected\n",
    "# placing a \":\" at that position means \"all\" \n",
    "# placing a number after a \":\" indicates the number of elements to be selected, counting from the front\n",
    "print(numbers_np_array)"
   ]
  },
  {
   "cell_type": "code",
   "execution_count": 26,
   "id": "d0c1c8e9",
   "metadata": {},
   "outputs": [
    {
     "name": "stdout",
     "output_type": "stream",
     "text": [
      "5 <class 'numpy.int64'>\n"
     ]
    }
   ],
   "source": [
    "# Converting list into numbers/integers (coz it is in string now)\n",
    "int_np_array = numbers_np_array.astype(int)\n",
    "print(numbers_np_array[4], type(int_np_array[4])) #checking code type"
   ]
  },
  {
   "cell_type": "code",
   "execution_count": null,
   "id": "7ca1480f",
   "metadata": {},
   "outputs": [
    {
     "data": {
      "text/plain": [
       "array([1, 1, 0, 0, 1, 1, 0, 0, 0, 1])"
      ]
     },
     "execution_count": 29,
     "metadata": {},
     "output_type": "execute_result"
    }
   ],
   "source": [
    "remainder_np_array = int_np_array%2\n",
    "int_np_array%2"
   ]
  },
  {
   "cell_type": "code",
   "execution_count": 31,
   "id": "282710de",
   "metadata": {},
   "outputs": [],
   "source": [
    "mask_even = remainder_np_array != 0 # those with remainder = 1 are odd"
   ]
  },
  {
   "cell_type": "code",
   "execution_count": null,
   "id": "4c2b9ec6",
   "metadata": {},
   "outputs": [
    {
     "data": {
      "text/plain": [
       "array(['1', '3', '5', '7', '9'], dtype='<U21')"
      ]
     },
     "execution_count": 33,
     "metadata": {},
     "output_type": "execute_result"
    }
   ],
   "source": [
    "numbers_np_array[mask_even] \n",
    "# first array is the original array, within [] the array is a True/False"
   ]
  },
  {
   "cell_type": "markdown",
   "id": "9b702031",
   "metadata": {},
   "source": [
    "#### Exercise 3"
   ]
  },
  {
   "cell_type": "code",
   "execution_count": null,
   "id": "78160d16",
   "metadata": {},
   "outputs": [
    {
     "name": "stdout",
     "output_type": "stream",
     "text": [
      "[66, 50, 57, -1, -1] <class 'list'>\n"
     ]
    }
   ],
   "source": [
    "numbers_matrix = [\n",
    "    [66, 50, 57, -1, -1],\n",
    "    [92, -1, 88, -1, -1],\n",
    "    [75, -1, -1, 76, -1],\n",
    "    [-1, 51, 87, -1, -1],\n",
    "    [71, -1, 67, -1, 69]\n",
    "    ]\n",
    "numbers_matrix_np = np.array(numbers_matrix)\n",
    "print(numbers_matrix[0], type(numbers_matrix[0]))"
   ]
  },
  {
   "cell_type": "code",
   "execution_count": 40,
   "id": "9ebe9b04",
   "metadata": {},
   "outputs": [],
   "source": [
    "# converting to string to scalar\n",
    "int_array = numbers_matrix_np.astype(int)"
   ]
  },
  {
   "cell_type": "code",
   "execution_count": 44,
   "id": "60469167",
   "metadata": {},
   "outputs": [
    {
     "name": "stdout",
     "output_type": "stream",
     "text": [
      "[-1 -1 -1 -1 -1 -1 -1 -1 -1 -1 -1 -1 -1]\n",
      "[[False False False  True  True]\n",
      " [False  True False  True  True]\n",
      " [False  True  True False  True]\n",
      " [ True False False  True  True]\n",
      " [False  True False  True False]]\n"
     ]
    }
   ],
   "source": [
    "less_than_50 = int_array < 50\n",
    "negative_ones = int_array[less_than_50]\n",
    "print(negative_ones)\n",
    "print(less_than_50)"
   ]
  },
  {
   "cell_type": "code",
   "execution_count": null,
   "id": "21ee1aee",
   "metadata": {},
   "outputs": [],
   "source": []
  }
 ],
 "metadata": {
  "kernelspec": {
   "display_name": "base",
   "language": "python",
   "name": "python3"
  },
  "language_info": {
   "codemirror_mode": {
    "name": "ipython",
    "version": 3
   },
   "file_extension": ".py",
   "mimetype": "text/x-python",
   "name": "python",
   "nbconvert_exporter": "python",
   "pygments_lexer": "ipython3",
   "version": "3.13.5"
  },
  "toc": {
   "base_numbering": 1,
   "nav_menu": {},
   "number_sections": true,
   "sideBar": true,
   "skip_h1_title": false,
   "title_cell": "Table of Contents",
   "title_sidebar": "Contents",
   "toc_cell": false,
   "toc_position": {},
   "toc_section_display": true,
   "toc_window_display": false
  }
 },
 "nbformat": 4,
 "nbformat_minor": 5
}
