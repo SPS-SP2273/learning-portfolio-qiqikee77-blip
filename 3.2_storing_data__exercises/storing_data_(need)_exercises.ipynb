{
 "cells": [
  {
   "attachments": {},
   "cell_type": "markdown",
   "id": "123456",
   "metadata": {},
   "source": [
    "<div style=\"text-align:left;font-size:2em\"><span style=\"font-weight:bolder;font-size:1.25em\">SP2273 | Learning Portfolio</span><br><br><span style=\"font-weight:bold;color:darkred\">Storing Data (Need) Exercises</span></div>"
   ]
  },
  {
   "cell_type": "markdown",
   "id": "72d6ca0f",
   "metadata": {},
   "source": [
    "### Exercise 1"
   ]
  },
  {
   "cell_type": "markdown",
   "id": "408ddf19",
   "metadata": {},
   "source": [
    "Question 1\n",
    "1. Both lists and arrays store data/ elements\n",
    "2. Elements or data in lists and arrays can be accessed through  methods such as indexing"
   ]
  },
  {
   "cell_type": "markdown",
   "id": "3a1b7428",
   "metadata": {},
   "source": [
    "Quesion 2\n",
    "1. Arrays are fundamentally designed to be used for quick maths whereas Lists are used more for data storage.\n",
    "2. Arrays can only store data in one generalised format, eg. string code, whereas Lists can store data in multiple formats."
   ]
  },
  {
   "cell_type": "markdown",
   "id": "305eda29",
   "metadata": {},
   "source": [
    "Question 3\n",
    "1. A dictionary is a large store of data that uses keys and their corresponding linked information, where they are separated by \":\". It allows for easy access of information from a single storage."
   ]
  },
  {
   "cell_type": "markdown",
   "id": "c49328e3",
   "metadata": {},
   "source": [
    "### Exercise 2 (Indexing)"
   ]
  },
  {
   "cell_type": "code",
   "execution_count": 2,
   "id": "95ad3cb8",
   "metadata": {},
   "outputs": [
    {
     "name": "stdout",
     "output_type": "stream",
     "text": [
      "a1\n",
      "c3\n",
      "e5\n",
      "g7\n",
      "i9\n"
     ]
    }
   ],
   "source": [
    "py_list = [\"a1\", \"b2\", \"c3\", \"d4\", \"e5\", \"f6\", \"g7\", \"h8\", \"i9\", \"j10\"]\n",
    "print(py_list[0])    # Prints 'a1'\n",
    "print(py_list[2])    # Prints 'c3'\n",
    "print(py_list[4])   # Prints 'e5'\n",
    "print(py_list[6])    # Prints 'g7'\n",
    "print(py_list[8])   # Prints 'i9'"
   ]
  },
  {
   "cell_type": "code",
   "execution_count": null,
   "id": "b6deb027",
   "metadata": {},
   "outputs": [],
   "source": [
    "#### Exercise 3 (\"Index again\")"
   ]
  },
  {
   "cell_type": "markdown",
   "id": "cb6461d3",
   "metadata": {},
   "source": [
    "### Exercise 3"
   ]
  },
  {
   "cell_type": "code",
   "execution_count": 3,
   "id": "4a87e5ba",
   "metadata": {},
   "outputs": [],
   "source": [
    "elements = ['Hydrogen',\n",
    "            'Helium', 'Lithium',\n",
    "            'Beryllium', 'Boron', 'Carbon',\n",
    "            'Nitrogen', 'Oxygen',\n",
    "            'Fluorine',\n",
    "            'Neon']"
   ]
  },
  {
   "cell_type": "code",
   "execution_count": 4,
   "id": "fc5adb8c",
   "metadata": {},
   "outputs": [
    {
     "name": "stdout",
     "output_type": "stream",
     "text": [
      "Boron\n"
     ]
    }
   ],
   "source": [
    "print(elements[4])"
   ]
  },
  {
   "cell_type": "code",
   "execution_count": 5,
   "id": "f3433642",
   "metadata": {},
   "outputs": [
    {
     "name": "stdout",
     "output_type": "stream",
     "text": [
      "Nitrogen\n"
     ]
    }
   ],
   "source": [
    "print(elements[-4])"
   ]
  },
  {
   "cell_type": "markdown",
   "id": "0914a155",
   "metadata": {},
   "source": [
    "### Exercise 4 (How many ones)"
   ]
  },
  {
   "cell_type": "code",
   "execution_count": 3,
   "id": "4b83b55e",
   "metadata": {},
   "outputs": [],
   "source": [
    "numbers=[45, 60, 1, 30, 96, 1, 96, 57, 16, 1,\n",
    "        99, 62, 86, 43, 42, 60, 59, 1, 1, 35,\n",
    "        83, 47, 34, 28, 68, 23, 22, 92, 1, 79,\n",
    "        1, 29, 94, 72, 46, 47, 1, 74, 32, 20,\n",
    "        8, 37, 35, 1, 89, 29, 86, 19, 43, 61]                  "
   ]
  },
  {
   "cell_type": "code",
   "execution_count": 4,
   "id": "1dc1775c",
   "metadata": {},
   "outputs": [],
   "source": [
    "import numpy as np\n",
    "np_numbers = np.array(numbers)"
   ]
  },
  {
   "cell_type": "code",
   "execution_count": null,
   "id": "5215d3f3",
   "metadata": {},
   "outputs": [
    {
     "data": {
      "text/plain": [
       "np.int64(9)"
      ]
     },
     "execution_count": 20,
     "metadata": {},
     "output_type": "execute_result"
    }
   ],
   "source": [
    "sum(np_numbers==1)\n",
    "# note: why cant I use 'len(np_numbers==1)' ?"
   ]
  },
  {
   "cell_type": "markdown",
   "id": "e02987b3",
   "metadata": {},
   "source": [
    "Hence the number of ones in this list/array is 9"
   ]
  },
  {
   "cell_type": "markdown",
   "id": "764180ec",
   "metadata": {},
   "source": [
    "### Exercise 5 (A Matter of Statistics)"
   ]
  },
  {
   "cell_type": "code",
   "execution_count": 21,
   "id": "ac2e3f5b",
   "metadata": {},
   "outputs": [],
   "source": [
    "x_1 = [1, 4, 9, 16, 25, 36, 49, 64, 81, 100]\n",
    "x_2 = [1, 8, 27, 64, 125, 216, 343, 512, 729, 1000]"
   ]
  },
  {
   "cell_type": "code",
   "execution_count": 24,
   "id": "b778efcc",
   "metadata": {},
   "outputs": [],
   "source": [
    "np_x_1 = np.array(x_1)\n",
    "np_x_2 = np.array(x_2)"
   ]
  },
  {
   "cell_type": "markdown",
   "id": "efd7b03a",
   "metadata": {},
   "source": [
    "#### Question 1 (Mean)"
   ]
  },
  {
   "cell_type": "markdown",
   "id": "aa8a1c84",
   "metadata": {},
   "source": [
    "Mean of X1"
   ]
  },
  {
   "cell_type": "code",
   "execution_count": 6,
   "id": "4f143859",
   "metadata": {},
   "outputs": [
    {
     "data": {
      "text/plain": [
       "np.float64(38.5)"
      ]
     },
     "execution_count": 6,
     "metadata": {},
     "output_type": "execute_result"
    }
   ],
   "source": [
    "np_x_1.mean()"
   ]
  },
  {
   "cell_type": "markdown",
   "id": "13c33531",
   "metadata": {},
   "source": [
    "Mean of X2"
   ]
  },
  {
   "cell_type": "code",
   "execution_count": 7,
   "id": "65f8aaa2",
   "metadata": {},
   "outputs": [
    {
     "data": {
      "text/plain": [
       "np.float64(302.5)"
      ]
     },
     "execution_count": 7,
     "metadata": {},
     "output_type": "execute_result"
    }
   ],
   "source": [
    "np_x_2.mean()"
   ]
  },
  {
   "cell_type": "markdown",
   "id": "9a0ca65c",
   "metadata": {},
   "source": [
    "#### Question 2 (Standard Deviation)"
   ]
  },
  {
   "cell_type": "markdown",
   "id": "cf7745e8",
   "metadata": {},
   "source": [
    "SD of X1"
   ]
  },
  {
   "cell_type": "code",
   "execution_count": 29,
   "id": "f62e8dc7",
   "metadata": {},
   "outputs": [
    {
     "data": {
      "text/plain": [
       "np.float64(32.41990129534635)"
      ]
     },
     "execution_count": 29,
     "metadata": {},
     "output_type": "execute_result"
    }
   ],
   "source": [
    "np_x_1.std()"
   ]
  },
  {
   "cell_type": "markdown",
   "id": "7127caa8",
   "metadata": {},
   "source": [
    "SD of X2"
   ]
  },
  {
   "cell_type": "code",
   "execution_count": 30,
   "id": "0780d31d",
   "metadata": {},
   "outputs": [
    {
     "data": {
      "text/plain": [
       "np.float64(326.0893282522444)"
      ]
     },
     "execution_count": 30,
     "metadata": {},
     "output_type": "execute_result"
    }
   ],
   "source": [
    "np_x_2.std()"
   ]
  },
  {
   "cell_type": "markdown",
   "id": "978b3e41",
   "metadata": {},
   "source": [
    "#### Question 3 (Pearson Correlation Coefficient)"
   ]
  },
  {
   "cell_type": "code",
   "execution_count": null,
   "id": "489e0470",
   "metadata": {},
   "outputs": [],
   "source": [
    "x1 = [1, 4, 9, 16, 25, 36, 49, 64, 81, 100]\n",
    "x2 = [1, 8, 27, 64, 125, 216, 343, 512, 729, 1000]\n",
    "\n",
    "np_x_1 = np.array(x_1)\n",
    "np_x_2 = np.array(x_2)"
   ]
  },
  {
   "cell_type": "code",
   "execution_count": null,
   "id": "49e8cc17",
   "metadata": {},
   "outputs": [],
   "source": [
    "x1_minus_miu = np_x_1 - np_x_1.mean()\n"
   ]
  },
  {
   "cell_type": "code",
   "execution_count": 32,
   "id": "6c1d7fae",
   "metadata": {},
   "outputs": [
    {
     "name": "stdout",
     "output_type": "stream",
     "text": [
      "[-37.5 -34.5 -29.5 -22.5 -13.5  -2.5  10.5  25.5  42.5  61.5]\n",
      "0.0\n",
      "104362.5\n"
     ]
    }
   ],
   "source": [
    "x1_minus_miu = np_x_1 - np_x_1.mean()\n",
    "# use .sum() as an attribute of the array.. will sum(x1_minus_miu) work?\n",
    "# can also use np.sum()\n",
    "x2_minus_miu = np_x_2 - np_x_2.mean()\n",
    "\n",
    "numerator = sum(x1_minus_miu*x2_minus_miu)\n",
    "\n",
    "print(x1_minus_miu)\n",
    "print(sum_x2_minus_miu)\n",
    "print(numerator)"
   ]
  },
  {
   "cell_type": "code",
   "execution_count": 33,
   "id": "bbb0f678",
   "metadata": {},
   "outputs": [],
   "source": [
    "x1_sumsquares = np.sum((x1_minus_miu)**2)\n",
    "x2_sumsquares = np.sum((x2_minus_miu)**2)\n",
    "denominator = np.sqrt(x1_sumsquares*x2_sumsquares)"
   ]
  },
  {
   "cell_type": "code",
   "execution_count": 34,
   "id": "7a675c39",
   "metadata": {},
   "outputs": [
    {
     "name": "stdout",
     "output_type": "stream",
     "text": [
      "0.9871796626270701\n"
     ]
    }
   ],
   "source": [
    "r = numerator/denominator\n",
    "print(r)"
   ]
  },
  {
   "cell_type": "markdown",
   "id": "0d864e1e",
   "metadata": {},
   "source": [
    "#### Question 4"
   ]
  },
  {
   "cell_type": "code",
   "execution_count": null,
   "id": "e5e0f8c4",
   "metadata": {},
   "outputs": [
    {
     "name": "stdout",
     "output_type": "stream",
     "text": [
      "[[1.         0.98717966]\n",
      " [0.98717966 1.        ]]\n"
     ]
    }
   ],
   "source": [
    "r = np.corrcoef(np_x_1, np_x_2)\n",
    "print(r)\n",
    "# produces a matrix showing the correlation coefficient between the \n",
    "# 1st list and itself, followed by the 1st list's corrcoef with the 2nd list"
   ]
  },
  {
   "cell_type": "markdown",
   "id": "22fc1c30",
   "metadata": {},
   "source": [
    "Comparing my results with np.corrcoef,\n",
    "1. the value of r between the 2 data sets produced in my results was much longer compared to using np.corrcoef\n",
    "\n",
    "2. The results produced are in a matrix format, where the first and second columns respresents comparison with x1 and x2 respectively, and the top and bottom rows represent comparison with x1 and x2 respectively, to produce 4 values of r."
   ]
  },
  {
   "cell_type": "code",
   "execution_count": null,
   "id": "51fcedbe",
   "metadata": {},
   "outputs": [
    {
     "data": {
      "text/plain": [
       "array([[1., 1., 1., 1., 1.],\n",
       "       [1., 1., 1., 1., 1.],\n",
       "       [1., 1., 1., 1., 1.],\n",
       "       [1., 1., 1., 1., 1.],\n",
       "       [1., 1., 1., 1., 1.]])"
      ]
     },
     "execution_count": 30,
     "metadata": {},
     "output_type": "execute_result"
    }
   ],
   "source": [
    "## dictionary: {[np_x_1], [np_x_2]}\n",
    "# can i use smth like this to make them into one data set?\n",
    "### no, make a 2D array instead: \n",
    "data_matrix = np.array([[0, 5],\n",
    "                       [1, 6],\n",
    "                       [2, 7],\n",
    "                       [3, 8],\n",
    "                       [4, 9]])\n",
    "np.corrcoef(data_matrix)"
   ]
  }
 ],
 "metadata": {
  "kernelspec": {
   "display_name": "base",
   "language": "python",
   "name": "python3"
  },
  "language_info": {
   "codemirror_mode": {
    "name": "ipython",
    "version": 3
   },
   "file_extension": ".py",
   "mimetype": "text/x-python",
   "name": "python",
   "nbconvert_exporter": "python",
   "pygments_lexer": "ipython3",
   "version": "3.13.5"
  },
  "toc": {
   "base_numbering": 1,
   "nav_menu": {},
   "number_sections": true,
   "sideBar": true,
   "skip_h1_title": false,
   "title_cell": "Table of Contents",
   "title_sidebar": "Contents",
   "toc_cell": false,
   "toc_position": {},
   "toc_section_display": true,
   "toc_window_display": false
  }
 },
 "nbformat": 4,
 "nbformat_minor": 5
}
