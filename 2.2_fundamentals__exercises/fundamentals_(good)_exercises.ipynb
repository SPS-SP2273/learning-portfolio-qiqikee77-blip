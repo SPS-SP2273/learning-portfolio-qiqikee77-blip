{
 "cells": [
  {
   "attachments": {},
   "cell_type": "markdown",
   "id": "123456",
   "metadata": {},
   "source": [
    "<div style=\"text-align:left;font-size:2em\"><span style=\"font-weight:bolder;font-size:1.25em\">SP2273 | Learning Portfolio</span><br><br><span style=\"font-weight:bold;color:darkred\">Fundamentals (Good) Exercises</span></div>"
   ]
  },
  {
   "cell_type": "markdown",
   "id": "a9c31049",
   "metadata": {},
   "source": [
    "#### Exercise 1"
   ]
  },
  {
   "cell_type": "markdown",
   "id": "a9af08e8",
   "metadata": {},
   "source": [
    "Task 1"
   ]
  },
  {
   "cell_type": "code",
   "execution_count": 10,
   "id": "fb047ec2",
   "metadata": {},
   "outputs": [
    {
     "name": "stdout",
     "output_type": "stream",
     "text": [
      "You entered 7\n"
     ]
    }
   ],
   "source": [
    "user_input = input('Please provide me with a number?')\n",
    "print('You entered', user_input)"
   ]
  },
  {
   "cell_type": "markdown",
   "id": "ccaec010",
   "metadata": {},
   "source": [
    "Task 2"
   ]
  },
  {
   "cell_type": "code",
   "execution_count": null,
   "id": "9b70de2e",
   "metadata": {},
   "outputs": [
    {
     "name": "stdout",
     "output_type": "stream",
     "text": [
      "How you doin **QIQI, 19**!\n"
     ]
    }
   ],
   "source": [
    "user_input = input('What is your name?')\n",
    "NAME = user_input\n",
    "print(f'How you doin {user_input.upper()}!') # placing \"f\" in front tells python that variables will appear in {}"
   ]
  },
  {
   "cell_type": "code",
   "execution_count": 4,
   "id": "0af8b4a4",
   "metadata": {},
   "outputs": [
    {
     "name": "stdout",
     "output_type": "stream",
     "text": [
      "qiqi, 19\n",
      "My name is QIQI, and I am 19 years old.\n"
     ]
    }
   ],
   "source": [
    "user_input = input('What is your name?, What is your age?')\n",
    "NAME, AGE = user_input.split()\n",
    "print(NAME, AGE)\n",
    "print(f'My name is {NAME.upper()} and I am {AGE.upper()} years old.')"
   ]
  },
  {
   "cell_type": "markdown",
   "id": "57e7f443",
   "metadata": {},
   "source": [
    "Task 3"
   ]
  },
  {
   "cell_type": "code",
   "execution_count": 13,
   "id": "958ed965",
   "metadata": {},
   "outputs": [
    {
     "name": "stdout",
     "output_type": "stream",
     "text": [
      "The value of pi to 2 decimal places is: 3.14\n",
      "The value of pi to 3 decimal places is: 3.142\n",
      "The value of pi to 4 decimal places is: 3.1416\n"
     ]
    }
   ],
   "source": [
    "pi_math = 3.141592653589793\n",
    "pi = str(3.141592653589793) # does not allow me to round off numbers\n",
    "print(f'The value of pi to 2 decimal places is: {pi[0:4]}') # this works \n",
    "                                                            # only if I\n",
    "                                                            # dont need \n",
    "                                                            # to round off\n",
    "print(f'The value of pi to 3 decimal places is: {round(3.141592653589793, 3)}')\n",
    "print(f'The value of pi to 4 decimal places is: {round(3.141592653589793, 4)}')"
   ]
  },
  {
   "cell_type": "markdown",
   "id": "722e1ac6",
   "metadata": {},
   "source": [
    "Task 4"
   ]
  },
  {
   "cell_type": "code",
   "execution_count": 26,
   "id": "895401da",
   "metadata": {},
   "outputs": [
    {
     "name": "stdout",
     "output_type": "stream",
     "text": [
      "Apple      $ 0.99\n",
      "Banana     $ 0.59\n",
      "Orange     $ 1.29\n"
     ]
    }
   ],
   "source": [
    "print(f'{'Apple':<10} ${'0.99':>5}')\n",
    "print(f'{'Banana':<10} ${'0.59':>5}')\n",
    "print(f'{'Orange':<10} ${'1.29':>5}')\n",
    "\n",
    "# x = 'orange'\n",
    "# print(f'{'orange':<10}', '*', sep='')\n",
    "# print('*'*10)"
   ]
  },
  {
   "cell_type": "markdown",
   "id": "201ce431",
   "metadata": {},
   "source": [
    "#### Exercise 2"
   ]
  },
  {
   "cell_type": "code",
   "execution_count": 8,
   "id": "5b3c7af0",
   "metadata": {},
   "outputs": [],
   "source": [
    "import math"
   ]
  },
  {
   "cell_type": "code",
   "execution_count": 31,
   "id": "4d5c3e13",
   "metadata": {},
   "outputs": [
    {
     "name": "stdout",
     "output_type": "stream",
     "text": [
      "Outside of range!\n"
     ]
    }
   ],
   "source": [
    "user_input = input(\"Enter the student's score:\")\n",
    "if user_input.isnumeric():\n",
    "    user_input = int(user_input) \n",
    "    # need to put this line because inequality signs dont work for str code\n",
    "    if 70 <= user_input <= 100: # Nested ifelse !!! (ifelse in another ifelse)\n",
    "        print(\"The student's letter grade is: A\")\n",
    "    elif 50 <= user_input <= 69:\n",
    "        print(\"The student's letter grade is: B\")\n",
    "    elif 35 <= user_input <= 49:\n",
    "        print(\"The student's letter grade is: C\")\n",
    "    elif 0 <= user_input <= 34:\n",
    "        print(\"The student's letter grade is: Fail\")\n",
    "    else:\n",
    "        print(\"Outside of range!\")\n",
    "else: \n",
    "    print(\"Invalid Input!\") # only if input is not a number"
   ]
  },
  {
   "cell_type": "code",
   "execution_count": null,
   "id": "6553fa32",
   "metadata": {},
   "outputs": [
    {
     "ename": "ValueError",
     "evalue": "invalid literal for int() with base 10: 'abc'",
     "output_type": "error",
     "traceback": [
      "\u001b[31m---------------------------------------------------------------------------\u001b[39m",
      "\u001b[31mValueError\u001b[39m                                Traceback (most recent call last)",
      "\u001b[36mCell\u001b[39m\u001b[36m \u001b[39m\u001b[32mIn[34]\u001b[39m\u001b[32m, line 2\u001b[39m\n\u001b[32m      1\u001b[39m x=\u001b[33m\"\u001b[39m\u001b[33mabc\u001b[39m\u001b[33m\"\u001b[39m\n\u001b[32m----> \u001b[39m\u001b[32m2\u001b[39m x = \u001b[38;5;28;43mint\u001b[39;49m\u001b[43m(\u001b[49m\u001b[43mx\u001b[49m\u001b[43m)\u001b[49m\n\u001b[32m      3\u001b[39m \u001b[38;5;28mprint\u001b[39m(x, \u001b[38;5;28mtype\u001b[39m(x))\n",
      "\u001b[31mValueError\u001b[39m: invalid literal for int() with base 10: 'abc'"
     ]
    }
   ],
   "source": [
    "x=\"abc\"\n",
    "\n",
    "x = int(x)\n",
    "print(x, type(x))"
   ]
  },
  {
   "cell_type": "code",
   "execution_count": 13,
   "id": "d8a402b1",
   "metadata": {},
   "outputs": [
    {
     "data": {
      "text/plain": [
       "False"
      ]
     },
     "execution_count": 13,
     "metadata": {},
     "output_type": "execute_result"
    }
   ],
   "source": [
    "x=10\n",
    "5<=x<10"
   ]
  },
  {
   "cell_type": "markdown",
   "id": "d6c51d69",
   "metadata": {},
   "source": [
    "#### Exercise 3 (Debugging Code)"
   ]
  },
  {
   "cell_type": "code",
   "execution_count": null,
   "id": "df854a12",
   "metadata": {},
   "outputs": [
    {
     "name": "stdout",
     "output_type": "stream",
     "text": [
      "120\n",
      "Invalid input\n"
     ]
    }
   ],
   "source": [
    "def factorial(n):\n",
    "    if n < 0:\n",
    "        return \"Invalid input\"\n",
    "    elif n == 0:\n",
    "        return 1 ## WHY??? bcoz 0! = 1, bcoz there is only 1 way to arrange 0 items\n",
    "    else:\n",
    "        result = 1\n",
    "        for number in range(1, n+1):\n",
    "            result *= number\n",
    "        return result"
   ]
  },
  {
   "cell_type": "code",
   "execution_count": 54,
   "id": "fda34c39",
   "metadata": {},
   "outputs": [
    {
     "name": "stdout",
     "output_type": "stream",
     "text": [
      "120\n"
     ]
    }
   ],
   "source": [
    "print(factorial(5))"
   ]
  },
  {
   "cell_type": "code",
   "execution_count": 53,
   "id": "1523976d",
   "metadata": {},
   "outputs": [
    {
     "name": "stdout",
     "output_type": "stream",
     "text": [
      "Invalid input\n"
     ]
    }
   ],
   "source": [
    "print(factorial(-1))"
   ]
  }
 ],
 "metadata": {
  "kernelspec": {
   "display_name": "base",
   "language": "python",
   "name": "python3"
  },
  "language_info": {
   "codemirror_mode": {
    "name": "ipython",
    "version": 3
   },
   "file_extension": ".py",
   "mimetype": "text/x-python",
   "name": "python",
   "nbconvert_exporter": "python",
   "pygments_lexer": "ipython3",
   "version": "3.13.5"
  },
  "toc": {
   "base_numbering": 1,
   "nav_menu": {},
   "number_sections": true,
   "sideBar": true,
   "skip_h1_title": false,
   "title_cell": "Table of Contents",
   "title_sidebar": "Contents",
   "toc_cell": false,
   "toc_position": {},
   "toc_section_display": true,
   "toc_window_display": false
  }
 },
 "nbformat": 4,
 "nbformat_minor": 5
}
