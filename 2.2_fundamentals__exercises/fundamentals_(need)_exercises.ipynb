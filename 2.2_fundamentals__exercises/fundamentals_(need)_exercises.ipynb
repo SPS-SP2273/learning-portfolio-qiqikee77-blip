{
 "cells": [
  {
   "attachments": {},
   "cell_type": "markdown",
   "id": "123456",
   "metadata": {},
   "source": [
    "<div style=\"text-align:left;font-size:2em\"><span style=\"font-weight:bolder;font-size:1.25em\">SP2273 | Learning Portfolio</span><br><br><span style=\"font-weight:bold;color:darkred\">Fundamentals (Need) Exercises</span></div>"
   ]
  },
  {
   "cell_type": "markdown",
   "id": "578db955",
   "metadata": {},
   "source": [
    "### Exercise 1"
   ]
  },
  {
   "cell_type": "markdown",
   "id": "99e606b2",
   "metadata": {},
   "source": [
    "- Python is a different language from markdown, where markdown is a more \"rendered\" version..?\n",
    "- Python codes can be interrupted\n",
    "- Variables can be removed from the Python kernal by restarting the kernel.\n",
    "- You can time the average and range of timings of 100,000 runs of your code by using the %timeit function (for single line) and %%timeit (for the whole cell)\n",
    "- There are different types of \"objects\", such as strains and functions, which are used in Python.\n",
    "- Your code can be single-lined or multi-step, where the single-lined version is a more advanced version.\n",
    "\n",
    "\n",
    "*i didnt know I was supposed to read the notes before listing... so after reading the notes...*\n",
    "\n",
    "- Functions, such as \"print\" can be used to perform tasks. \n",
    "\n",
    "- Functions are always followed by (), where the contents of the brackets are known as arguments. Not all functions require arguments to work. for example, the exit() function.\n",
    "\n",
    "- You can define your own functions.\n",
    "\n",
    "- Python is an interpreter of the Python language. *Python interprets/ reads the code line by line, where if the first 2 lines are in a correct form but the 3rd is not, then Python will interpret the first 2 lines and then notice the error in the 3rd line*\n",
    "\n",
    "- Python is case-sensitive. (eg. 'print' vs 'Print', where 'print' is a function and 'Print' is not)\n",
    "\n",
    "- *indentations (spaces between lines of code) are very important in python as python will read them as part of the code, so we cannot anyhow place spaces or tabs in our code*\n",
    "\n",
    "- Comments are disregarded by Python.\n",
    "\n",
    "- Typing comments in Python is done by adding a # in front of the comment, where anything between the # and the end of the line is the comment. Comments are used for human communication, such as to take note of the purpose of a line of code that was created. *Too many or unnecessary comments can make the code messy and hard to read.*\n",
    "\n",
    "- = and == are different. = is used to assign a value to something, whereas == is used to ask the question of whether two \"things\" are equivalent.\n",
    "\n",
    "- You can add a value to a word to make it a variable using =. For example apple = 7.\n",
    "\n",
    "- Commas are used to denote text, where contents inside the commas are text, and contents outside commas can be read as variables. \n",
    "\n",
    "- Commas are important for functions such as \"print\", where print('apple') will print the word 'apple', and print (apple) can print the value of apple (if there was one created)\n",
    "\n",
    "- The function \"if\" and \"else\" can be used to define two outcomes. == can be used with \"if\" to define the situation where one of the two outcomes will be chosen and played out.\n",
    "\n",
    "- *to use \"else\", a \":\" must be placed after the function before you can define the alternative result given the \"if\" condition is not met.*\n",
    "\n",
    "- Packages can be imported into Python to give it superpowers :D\n",
    "\n",
    "- The dot \".\" connotates ownership. For example \"numpy.sqrt(4)\" means \"using numpy's square root function, find square root 4\" (or something like that...) *some functions and attributes can be accessed using the dot by placing the function/atribute after the dot. eg \"I am Batman\".split will cause the sentence to split using the split function.*\n",
    "\n",
    "- Python uses all three bracket types (), [], and {}, for different purposes.\n",
    "\n",
    "- *() can be used for math (besides use in functions) [] can be used for lists of data, and {} is used to **store data** in a \"dictionary\"*\n",
    "\n",
    "- *dictionaries use a key to identify a value (a=b), allowing for quick and easy access of information.*\n",
    "\n",
    "\n"
   ]
  },
  {
   "cell_type": "code",
   "execution_count": 10,
   "id": "10c2a308",
   "metadata": {},
   "outputs": [
    {
     "data": {
      "text/plain": [
       "2.0"
      ]
     },
     "execution_count": 10,
     "metadata": {},
     "output_type": "execute_result"
    }
   ],
   "source": [
    "import math\n",
    "math.sqrt(4)"
   ]
  },
  {
   "cell_type": "code",
   "execution_count": 8,
   "id": "d155fb0e",
   "metadata": {},
   "outputs": [
    {
     "data": {
      "text/plain": [
       "np.float64(2.0)"
      ]
     },
     "execution_count": 8,
     "metadata": {},
     "output_type": "execute_result"
    }
   ],
   "source": [
    "import numpy as np\n",
    "np.sqrt(4)"
   ]
  },
  {
   "cell_type": "markdown",
   "id": "c40cf69e",
   "metadata": {},
   "source": [
    "### Exercise 2"
   ]
  },
  {
   "cell_type": "code",
   "execution_count": 13,
   "id": "b2e054b1",
   "metadata": {},
   "outputs": [
    {
     "name": "stdout",
     "output_type": "stream",
     "text": [
      "3 4 5.0\n"
     ]
    }
   ],
   "source": [
    "x, y = 3, 4\n",
    "z = np.sqrt(x**2 + y**2)\n",
    "print(x, y, z)"
   ]
  },
  {
   "cell_type": "markdown",
   "id": "4d25c7de",
   "metadata": {},
   "source": [
    "### Exercise 3"
   ]
  },
  {
   "cell_type": "markdown",
   "id": "c0010058",
   "metadata": {},
   "source": [
    "1. A function is a coding tool that can perform specific tasks and can only be run when a set of brackets follow behind it.\n",
    "\n",
    "2. An argument may be used to fill in the brackets that follow a function where, for some functions, they are the missing details required for the function to carry out the task it is programmed to do. [For example, np.sqrt(4) can only be carried out when a specific numerical argument is denoted in the brackets.]\n",
    "\n",
    "3. Comments are sidenotes made by the humans who are writing or checking a code in order to remember the purpose of a line of code written or perhaps to make suggestions for improvements or update their progress on an unfinished line of code.\n",
    "\n",
    "4. Indentations are spaces in between or within lines of code, and are considered to be part of the code when read by Python.\n",
    "\n",
    "5. Packages are exisiting, available installations that are imported into the Python kernel to increase the kernel's abilities such as the types of functions that it can interpret. \n",
    "\n",
    "6. Dots denote ownership relations between 2 subjects, where owner.function or function.owner can be used depending on the type of function and type of action that you wish to carry out.\n",
    "\n",
    "7. Colons are used to define \"things\" such as to define an alternative outcome for the \"else\" function.\n",
    "\n",
    "8. [] are used in Python for listing data that can consist of both numbers and letters.\n",
    "\n",
    "9. [[],[]] can be used to link the first listed \"thing\" with the next listed \"thing\", where [[x], [y]] could indicate a set of coordinates.\n",
    "\n",
    "10. {} is used to enclose large stores of information (data) that can make small bits of data within the large store more easily accessible to use while writing code.\n",
    "\n"
   ]
  },
  {
   "cell_type": "markdown",
   "id": "739e437f",
   "metadata": {},
   "source": [
    "### Exercise 4"
   ]
  },
  {
   "cell_type": "markdown",
   "id": "b85a840a",
   "metadata": {},
   "source": [
    "#### Question 1"
   ]
  },
  {
   "cell_type": "code",
   "execution_count": null,
   "id": "352e9b75",
   "metadata": {},
   "outputs": [
    {
     "data": {
      "text/plain": [
       "2.5"
      ]
     },
     "execution_count": 15,
     "metadata": {},
     "output_type": "execute_result"
    }
   ],
   "source": [
    "5/2\n",
    "# The / function causes 5 to be divided by 2"
   ]
  },
  {
   "cell_type": "markdown",
   "id": "a1717a2d",
   "metadata": {},
   "source": [
    "#### Question 2"
   ]
  },
  {
   "cell_type": "markdown",
   "id": "a12d333c",
   "metadata": {},
   "source": [
    "Trial 1"
   ]
  },
  {
   "cell_type": "code",
   "execution_count": 20,
   "id": "12676010",
   "metadata": {},
   "outputs": [
    {
     "data": {
      "text/plain": [
       "2"
      ]
     },
     "execution_count": 20,
     "metadata": {},
     "output_type": "execute_result"
    }
   ],
   "source": [
    "5//2"
   ]
  },
  {
   "cell_type": "markdown",
   "id": "4db80db1",
   "metadata": {},
   "source": [
    "Trial 2"
   ]
  },
  {
   "cell_type": "code",
   "execution_count": 21,
   "id": "1013a21b",
   "metadata": {},
   "outputs": [
    {
     "data": {
      "text/plain": [
       "1"
      ]
     },
     "execution_count": 21,
     "metadata": {},
     "output_type": "execute_result"
    }
   ],
   "source": [
    "6//4"
   ]
  },
  {
   "cell_type": "code",
   "execution_count": 24,
   "id": "6d6c8066",
   "metadata": {},
   "outputs": [
    {
     "data": {
      "text/plain": [
       "1.5"
      ]
     },
     "execution_count": 24,
     "metadata": {},
     "output_type": "execute_result"
    }
   ],
   "source": [
    "6/4"
   ]
  },
  {
   "cell_type": "markdown",
   "id": "a21963a0",
   "metadata": {},
   "source": [
    "Trial 3"
   ]
  },
  {
   "cell_type": "code",
   "execution_count": 26,
   "id": "7eda0310",
   "metadata": {},
   "outputs": [
    {
     "data": {
      "text/plain": [
       "2"
      ]
     },
     "execution_count": 26,
     "metadata": {},
     "output_type": "execute_result"
    }
   ],
   "source": [
    "9//4"
   ]
  },
  {
   "cell_type": "code",
   "execution_count": 25,
   "id": "d699cb8b",
   "metadata": {},
   "outputs": [
    {
     "data": {
      "text/plain": [
       "2.25"
      ]
     },
     "execution_count": 25,
     "metadata": {},
     "output_type": "execute_result"
    }
   ],
   "source": [
    "9/4"
   ]
  },
  {
   "cell_type": "code",
   "execution_count": 27,
   "id": "ec3c64cc",
   "metadata": {},
   "outputs": [],
   "source": [
    "#The function // truncates the answer of \"a/b\", where a and b are integers, such that only the first number of the answer is shown."
   ]
  },
  {
   "cell_type": "markdown",
   "id": "1ffb8860",
   "metadata": {},
   "source": [
    "#### Question 3"
   ]
  },
  {
   "cell_type": "code",
   "execution_count": 28,
   "id": "d3fbf42c",
   "metadata": {},
   "outputs": [
    {
     "data": {
      "text/plain": [
       "1"
      ]
     },
     "execution_count": 28,
     "metadata": {},
     "output_type": "execute_result"
    }
   ],
   "source": [
    "5%2"
   ]
  },
  {
   "cell_type": "code",
   "execution_count": 39,
   "id": "7bfed564",
   "metadata": {},
   "outputs": [
    {
     "data": {
      "text/plain": [
       "2"
      ]
     },
     "execution_count": 39,
     "metadata": {},
     "output_type": "execute_result"
    }
   ],
   "source": [
    "2%5"
   ]
  },
  {
   "cell_type": "code",
   "execution_count": 29,
   "id": "3da2bf9c",
   "metadata": {},
   "outputs": [
    {
     "data": {
      "text/plain": [
       "0"
      ]
     },
     "execution_count": 29,
     "metadata": {},
     "output_type": "execute_result"
    }
   ],
   "source": [
    "6%3"
   ]
  },
  {
   "cell_type": "code",
   "execution_count": 40,
   "id": "21d752fd",
   "metadata": {},
   "outputs": [
    {
     "data": {
      "text/plain": [
       "3"
      ]
     },
     "execution_count": 40,
     "metadata": {},
     "output_type": "execute_result"
    }
   ],
   "source": [
    "3%6"
   ]
  },
  {
   "cell_type": "code",
   "execution_count": 30,
   "id": "312de23d",
   "metadata": {},
   "outputs": [
    {
     "data": {
      "text/plain": [
       "3"
      ]
     },
     "execution_count": 30,
     "metadata": {},
     "output_type": "execute_result"
    }
   ],
   "source": [
    "7%4"
   ]
  },
  {
   "cell_type": "code",
   "execution_count": 41,
   "id": "e812fdf8",
   "metadata": {},
   "outputs": [
    {
     "data": {
      "text/plain": [
       "4"
      ]
     },
     "execution_count": 41,
     "metadata": {},
     "output_type": "execute_result"
    }
   ],
   "source": [
    "4%7"
   ]
  },
  {
   "cell_type": "code",
   "execution_count": 31,
   "id": "68f7bb52",
   "metadata": {},
   "outputs": [
    {
     "data": {
      "text/plain": [
       "0"
      ]
     },
     "execution_count": 31,
     "metadata": {},
     "output_type": "execute_result"
    }
   ],
   "source": [
    "6%2"
   ]
  },
  {
   "cell_type": "code",
   "execution_count": 42,
   "id": "5f6d2217",
   "metadata": {},
   "outputs": [
    {
     "data": {
      "text/plain": [
       "2"
      ]
     },
     "execution_count": 42,
     "metadata": {},
     "output_type": "execute_result"
    }
   ],
   "source": [
    "2%6"
   ]
  },
  {
   "cell_type": "code",
   "execution_count": 32,
   "id": "819a1039",
   "metadata": {},
   "outputs": [
    {
     "data": {
      "text/plain": [
       "0"
      ]
     },
     "execution_count": 32,
     "metadata": {},
     "output_type": "execute_result"
    }
   ],
   "source": [
    "4%4"
   ]
  },
  {
   "cell_type": "code",
   "execution_count": 34,
   "id": "fe890e94",
   "metadata": {},
   "outputs": [
    {
     "data": {
      "text/plain": [
       "0"
      ]
     },
     "execution_count": 34,
     "metadata": {},
     "output_type": "execute_result"
    }
   ],
   "source": [
    "4%2"
   ]
  },
  {
   "cell_type": "code",
   "execution_count": 43,
   "id": "f3a384a5",
   "metadata": {},
   "outputs": [],
   "source": [
    "# From above observations, only those with an even number in front give a \"0\" result\n",
    "#"
   ]
  },
  {
   "cell_type": "code",
   "execution_count": 36,
   "id": "fb8faf77",
   "metadata": {},
   "outputs": [
    {
     "data": {
      "text/plain": [
       "0"
      ]
     },
     "execution_count": 36,
     "metadata": {},
     "output_type": "execute_result"
    }
   ],
   "source": [
    "9%3"
   ]
  },
  {
   "cell_type": "code",
   "execution_count": 37,
   "id": "e8cd21b3",
   "metadata": {},
   "outputs": [
    {
     "data": {
      "text/plain": [
       "3"
      ]
     },
     "execution_count": 37,
     "metadata": {},
     "output_type": "execute_result"
    }
   ],
   "source": [
    "3%9"
   ]
  },
  {
   "cell_type": "code",
   "execution_count": 44,
   "id": "c354695e",
   "metadata": {},
   "outputs": [
    {
     "data": {
      "text/plain": [
       "0"
      ]
     },
     "execution_count": 44,
     "metadata": {},
     "output_type": "execute_result"
    }
   ],
   "source": [
    "5%1"
   ]
  },
  {
   "cell_type": "code",
   "execution_count": 45,
   "id": "b2adf0c6",
   "metadata": {},
   "outputs": [
    {
     "data": {
      "text/plain": [
       "1"
      ]
     },
     "execution_count": 45,
     "metadata": {},
     "output_type": "execute_result"
    }
   ],
   "source": [
    "5%2"
   ]
  },
  {
   "cell_type": "code",
   "execution_count": 46,
   "id": "71e8245a",
   "metadata": {},
   "outputs": [
    {
     "data": {
      "text/plain": [
       "2"
      ]
     },
     "execution_count": 46,
     "metadata": {},
     "output_type": "execute_result"
    }
   ],
   "source": [
    "5%3"
   ]
  },
  {
   "cell_type": "code",
   "execution_count": 47,
   "id": "68aa1dd8",
   "metadata": {},
   "outputs": [
    {
     "data": {
      "text/plain": [
       "1"
      ]
     },
     "execution_count": 47,
     "metadata": {},
     "output_type": "execute_result"
    }
   ],
   "source": [
    "5%4"
   ]
  },
  {
   "cell_type": "code",
   "execution_count": 48,
   "id": "7be8416d",
   "metadata": {},
   "outputs": [
    {
     "data": {
      "text/plain": [
       "0"
      ]
     },
     "execution_count": 48,
     "metadata": {},
     "output_type": "execute_result"
    }
   ],
   "source": [
    "5%5"
   ]
  },
  {
   "cell_type": "code",
   "execution_count": 49,
   "id": "eec37b7b",
   "metadata": {},
   "outputs": [
    {
     "data": {
      "text/plain": [
       "5"
      ]
     },
     "execution_count": 49,
     "metadata": {},
     "output_type": "execute_result"
    }
   ],
   "source": [
    "5%6"
   ]
  },
  {
   "cell_type": "code",
   "execution_count": 50,
   "id": "fe261b99",
   "metadata": {},
   "outputs": [
    {
     "data": {
      "text/plain": [
       "5"
      ]
     },
     "execution_count": 50,
     "metadata": {},
     "output_type": "execute_result"
    }
   ],
   "source": [
    "5%7"
   ]
  },
  {
   "cell_type": "code",
   "execution_count": 51,
   "id": "9db7e335",
   "metadata": {},
   "outputs": [
    {
     "data": {
      "text/plain": [
       "5"
      ]
     },
     "execution_count": 51,
     "metadata": {},
     "output_type": "execute_result"
    }
   ],
   "source": [
    "5%8"
   ]
  },
  {
   "cell_type": "code",
   "execution_count": 52,
   "id": "5b334dc6",
   "metadata": {},
   "outputs": [
    {
     "data": {
      "text/plain": [
       "0"
      ]
     },
     "execution_count": 52,
     "metadata": {},
     "output_type": "execute_result"
    }
   ],
   "source": [
    "4%1"
   ]
  },
  {
   "cell_type": "code",
   "execution_count": 53,
   "id": "4f49a979",
   "metadata": {},
   "outputs": [
    {
     "data": {
      "text/plain": [
       "0"
      ]
     },
     "execution_count": 53,
     "metadata": {},
     "output_type": "execute_result"
    }
   ],
   "source": [
    "4%2"
   ]
  },
  {
   "cell_type": "code",
   "execution_count": 54,
   "id": "432b5299",
   "metadata": {},
   "outputs": [
    {
     "data": {
      "text/plain": [
       "1"
      ]
     },
     "execution_count": 54,
     "metadata": {},
     "output_type": "execute_result"
    }
   ],
   "source": [
    "4%3"
   ]
  },
  {
   "cell_type": "code",
   "execution_count": 55,
   "id": "fc471068",
   "metadata": {},
   "outputs": [
    {
     "data": {
      "text/plain": [
       "0"
      ]
     },
     "execution_count": 55,
     "metadata": {},
     "output_type": "execute_result"
    }
   ],
   "source": [
    "4%4"
   ]
  },
  {
   "cell_type": "code",
   "execution_count": 56,
   "id": "ddd875b4",
   "metadata": {},
   "outputs": [
    {
     "data": {
      "text/plain": [
       "4"
      ]
     },
     "execution_count": 56,
     "metadata": {},
     "output_type": "execute_result"
    }
   ],
   "source": [
    "4%5"
   ]
  },
  {
   "cell_type": "code",
   "execution_count": 57,
   "id": "242dcf47",
   "metadata": {},
   "outputs": [
    {
     "data": {
      "text/plain": [
       "4"
      ]
     },
     "execution_count": 57,
     "metadata": {},
     "output_type": "execute_result"
    }
   ],
   "source": [
    "4%6"
   ]
  },
  {
   "cell_type": "code",
   "execution_count": 58,
   "id": "10dd7feb",
   "metadata": {},
   "outputs": [
    {
     "data": {
      "text/plain": [
       "4"
      ]
     },
     "execution_count": 58,
     "metadata": {},
     "output_type": "execute_result"
    }
   ],
   "source": [
    "4%7"
   ]
  },
  {
   "cell_type": "code",
   "execution_count": null,
   "id": "33477b77",
   "metadata": {},
   "outputs": [],
   "source": [
    "# If the number in front is smaller, then the answer/ result will be the same value as that first number.\n",
    "# I gave up and searched google\n",
    "# The % function returns the REMAINDER of the division"
   ]
  }
 ],
 "metadata": {
  "kernelspec": {
   "display_name": "base",
   "language": "python",
   "name": "python3"
  },
  "language_info": {
   "codemirror_mode": {
    "name": "ipython",
    "version": 3
   },
   "file_extension": ".py",
   "mimetype": "text/x-python",
   "name": "python",
   "nbconvert_exporter": "python",
   "pygments_lexer": "ipython3",
   "version": "3.13.5"
  },
  "toc": {
   "base_numbering": 1,
   "nav_menu": {},
   "number_sections": true,
   "sideBar": true,
   "skip_h1_title": false,
   "title_cell": "Table of Contents",
   "title_sidebar": "Contents",
   "toc_cell": false,
   "toc_position": {},
   "toc_section_display": true,
   "toc_window_display": false
  }
 },
 "nbformat": 4,
 "nbformat_minor": 5
}
