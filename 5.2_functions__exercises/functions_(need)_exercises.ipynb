{
 "cells": [
  {
   "attachments": {},
   "cell_type": "markdown",
   "id": "123456",
   "metadata": {},
   "source": [
    "<div style=\"text-align:left;font-size:2em\"><span style=\"font-weight:bolder;font-size:1.25em\">SP2273 | Learning Portfolio</span><br><br><span style=\"font-weight:bold;color:darkred\">Functions (Need) Exercises</span></div>"
   ]
  },
  {
   "cell_type": "markdown",
   "id": "6548f3bf",
   "metadata": {
    "vscode": {
     "languageId": "plaintext"
    }
   },
   "source": [
    "#### Exercise 1"
   ]
  },
  {
   "cell_type": "code",
   "execution_count": null,
   "id": "995d6e37",
   "metadata": {},
   "outputs": [],
   "source": [
    "## Why does the following function work with no \"else\" statement?\n",
    "def greeting(name):\n",
    "    if name == 'Batman':\n",
    "        return 'Hello Batman! So, nice to meet you!'\n",
    "    return f'Hello {name}!'"
   ]
  },
  {
   "cell_type": "code",
   "execution_count": null,
   "id": "433f11c5",
   "metadata": {},
   "outputs": [
    {
     "ename": "TypeError",
     "evalue": "greeting() missing 1 required positional argument: 'name'",
     "output_type": "error",
     "traceback": [
      "\u001b[31m---------------------------------------------------------------------------\u001b[39m",
      "\u001b[31mTypeError\u001b[39m                                 Traceback (most recent call last)",
      "\u001b[36mCell\u001b[39m\u001b[36m \u001b[39m\u001b[32mIn[2]\u001b[39m\u001b[32m, line 1\u001b[39m\n\u001b[32m----> \u001b[39m\u001b[32m1\u001b[39m \u001b[43mgreeting\u001b[49m\u001b[43m(\u001b[49m\u001b[43m)\u001b[49m\n",
      "\u001b[31mTypeError\u001b[39m: greeting() missing 1 required positional argument: 'name'"
     ]
    }
   ],
   "source": [
    "greeting()\n",
    "## this shows me there is no default argument and response"
   ]
  },
  {
   "cell_type": "markdown",
   "id": "3a2f76ff",
   "metadata": {},
   "source": [
    "The second return statement is outside the inner \"if\" code, but within the definition of the function greeting().\n",
    "\n",
    "Perhaps when name != \"Batman\", the if condition is not fulfilled, which causes Python to move on to the next line of code, until the end of the definition of the function is reached (where \"f\" is)."
   ]
  },
  {
   "cell_type": "markdown",
   "id": "38698129",
   "metadata": {},
   "source": [
    "#### Exercise 2"
   ]
  },
  {
   "cell_type": "code",
   "execution_count": 7,
   "id": "b0b357e8",
   "metadata": {},
   "outputs": [],
   "source": [
    "def calculate_bmi(weight, height):\n",
    "    BMI = weight / (height ** 2)\n",
    "    if BMI < 18.5:\n",
    "        return 'You are Underweight :('\n",
    "    if 18.5 < BMI < 24.9:\n",
    "        return 'You are Normal weight :)'\n",
    "    if 25 < BMI < 29.9:\n",
    "        return 'You are Overweight :('\n",
    "    if BMI >= 30:\n",
    "        return 'You are Obese D:'\n",
    "    else: f'Invalid input!'"
   ]
  },
  {
   "cell_type": "code",
   "execution_count": 8,
   "id": "c08d8b3f",
   "metadata": {},
   "outputs": [
    {
     "data": {
      "text/plain": [
       "'You are Underweight :('"
      ]
     },
     "execution_count": 8,
     "metadata": {},
     "output_type": "execute_result"
    }
   ],
   "source": [
    "calculate_bmi(64, 175)"
   ]
  },
  {
   "cell_type": "markdown",
   "id": "b9bf6a92",
   "metadata": {},
   "source": [
    "#### Exercise 3"
   ]
  },
  {
   "cell_type": "code",
   "execution_count": 7,
   "id": "ecf258a0",
   "metadata": {},
   "outputs": [],
   "source": [
    "import numpy as np"
   ]
  },
  {
   "cell_type": "code",
   "execution_count": null,
   "id": "66d1e01d",
   "metadata": {},
   "outputs": [],
   "source": [
    "def factorial(n):\n",
    "    if n < 0:\n",
    "        return ' Sorry, you have no factorial!'\n",
    "    if n > 0:\n",
    "        return {n}*{n-(n-1)}*{n-(n-2)} #???"
   ]
  },
  {
   "cell_type": "code",
   "execution_count": 8,
   "id": "2d66cc3a",
   "metadata": {},
   "outputs": [],
   "source": [
    "def factorial(n):\n",
    "    count = np.array(list(range(1, n)))\n",
    "    if n < 0:\n",
    "        return print('Sorry, you have no factorial!')\n",
    "    if n == 0:\n",
    "        return print('n = 1') # when do f strings REQUIRE formatting?\n",
    "    if n > 0:\n",
    "        for a, count in enumerate(count, start=1):\n",
    "            if a != n:\n",
    "                n = n * a\n",
    "        return print(f'n! = {n}')"
   ]
  },
  {
   "cell_type": "code",
   "execution_count": 9,
   "id": "aa226387",
   "metadata": {},
   "outputs": [
    {
     "name": "stdout",
     "output_type": "stream",
     "text": [
      "n! = 6\n"
     ]
    }
   ],
   "source": [
    "factorial(3)\n",
    "# enumerate() produces a tuple (a list that cannot be changed once made)\n",
    "# I decided to use the index of the enumerate tuple instead of its elements\n",
    "## can I say that a tuple should be made if the contents are string\n",
    "## that are meant to be printed?"
   ]
  },
  {
   "cell_type": "code",
   "execution_count": 10,
   "id": "3cc2cee0",
   "metadata": {},
   "outputs": [
    {
     "name": "stdout",
     "output_type": "stream",
     "text": [
      "n! = 120\n"
     ]
    }
   ],
   "source": [
    "factorial(5)"
   ]
  },
  {
   "cell_type": "code",
   "execution_count": 53,
   "id": "a776ae70",
   "metadata": {},
   "outputs": [
    {
     "name": "stdout",
     "output_type": "stream",
     "text": [
      "n = 1\n"
     ]
    }
   ],
   "source": [
    "factorial(0)"
   ]
  },
  {
   "cell_type": "code",
   "execution_count": 59,
   "id": "365db438",
   "metadata": {},
   "outputs": [
    {
     "name": "stdout",
     "output_type": "stream",
     "text": [
      "Sorry, you have no factorial!\n"
     ]
    }
   ],
   "source": [
    "factorial(-1)"
   ]
  },
  {
   "cell_type": "markdown",
   "id": "96a14204",
   "metadata": {},
   "source": [
    "Below is an alternative factorial producing function I made when i was giving up... :]"
   ]
  },
  {
   "cell_type": "code",
   "execution_count": null,
   "id": "9c53d04d",
   "metadata": {},
   "outputs": [],
   "source": [
    "def factorial(number):\n",
    "    if number < 0:\n",
    "        return print('Sorry, you have no factorial!')\n",
    "    if number > 0:\n",
    "        return f\"{number}!\""
   ]
  },
  {
   "cell_type": "code",
   "execution_count": 58,
   "id": "62e4d476",
   "metadata": {},
   "outputs": [
    {
     "name": "stdout",
     "output_type": "stream",
     "text": [
      "Sorry, you have no factorial!\n"
     ]
    }
   ],
   "source": [
    "factorial(-1)"
   ]
  },
  {
   "cell_type": "code",
   "execution_count": 15,
   "id": "46c9f85f",
   "metadata": {},
   "outputs": [
    {
     "data": {
      "text/plain": [
       "'3!'"
      ]
     },
     "execution_count": 15,
     "metadata": {},
     "output_type": "execute_result"
    }
   ],
   "source": [
    "factorial(3)"
   ]
  }
 ],
 "metadata": {
  "kernelspec": {
   "display_name": "base",
   "language": "python",
   "name": "python3"
  },
  "language_info": {
   "codemirror_mode": {
    "name": "ipython",
    "version": 3
   },
   "file_extension": ".py",
   "mimetype": "text/x-python",
   "name": "python",
   "nbconvert_exporter": "python",
   "pygments_lexer": "ipython3",
   "version": "3.13.5"
  },
  "toc": {
   "base_numbering": 1,
   "nav_menu": {},
   "number_sections": true,
   "sideBar": true,
   "skip_h1_title": false,
   "title_cell": "Table of Contents",
   "title_sidebar": "Contents",
   "toc_cell": false,
   "toc_position": {},
   "toc_section_display": true,
   "toc_window_display": false
  }
 },
 "nbformat": 4,
 "nbformat_minor": 5
}
