{
 "cells": [
  {
   "attachments": {},
   "cell_type": "markdown",
   "id": "123456",
   "metadata": {},
   "source": [
    "<div style=\"text-align:left;font-size:2em\"><span style=\"font-weight:bolder;font-size:1.25em\">SP2273 | Learning Portfolio</span><br><br><span style=\"font-weight:bold;color:darkred\">Functions (Good) Exercises</span></div>"
   ]
  },
  {
   "cell_type": "markdown",
   "id": "c27d6d1a",
   "metadata": {},
   "source": [
    "#### Exercise 1"
   ]
  },
  {
   "cell_type": "code",
   "execution_count": 2,
   "id": "ff986e03",
   "metadata": {},
   "outputs": [],
   "source": [
    "def convert_celsius(temperature_celsius, target_scale='Farenheit'):\n",
    "    if target_scale == 'Farenheit':\n",
    "        return print(f'{temperature_celsius+32}, Farenheit')\n",
    "    if target_scale == 'Kelvin':\n",
    "        return print(f'{temperature_celsius+273.15}, Kelvin')"
   ]
  },
  {
   "cell_type": "code",
   "execution_count": 23,
   "id": "ce4bd25e",
   "metadata": {},
   "outputs": [
    {
     "name": "stdout",
     "output_type": "stream",
     "text": [
      "64, Farenheit\n"
     ]
    }
   ],
   "source": [
    "convert_celsius(32, )"
   ]
  },
  {
   "cell_type": "code",
   "execution_count": null,
   "id": "b119eceb",
   "metadata": {},
   "outputs": [
    {
     "ename": "NameError",
     "evalue": "name 'kelvin' is not defined",
     "output_type": "error",
     "traceback": [
      "\u001b[31m---------------------------------------------------------------------------\u001b[39m",
      "\u001b[31mNameError\u001b[39m                                 Traceback (most recent call last)",
      "\u001b[36mCell\u001b[39m\u001b[36m \u001b[39m\u001b[32mIn[4]\u001b[39m\u001b[32m, line 1\u001b[39m\n\u001b[32m----> \u001b[39m\u001b[32m1\u001b[39m convert_celsius(\u001b[32m0\u001b[39m, \u001b[43mkelvin\u001b[49m)\n",
      "\u001b[31mNameError\u001b[39m: name 'kelvin' is not defined"
     ]
    }
   ],
   "source": [
    "convert_celsius(0, kelvin) ## case-sensitive arguments, need '' (string)"
   ]
  },
  {
   "cell_type": "code",
   "execution_count": 24,
   "id": "b52ec348",
   "metadata": {},
   "outputs": [
    {
     "name": "stdout",
     "output_type": "stream",
     "text": [
      "273.15, Kelvin\n"
     ]
    }
   ],
   "source": [
    "convert_celsius(0, 'Kelvin')"
   ]
  },
  {
   "cell_type": "markdown",
   "id": "d459c588",
   "metadata": {},
   "source": [
    "#### Exercise 2"
   ]
  },
  {
   "cell_type": "code",
   "execution_count": 3,
   "id": "b433cdaf",
   "metadata": {},
   "outputs": [],
   "source": [
    "def convert_farenheit(temperature_farenheit, target_scale='Kelvin'):\n",
    "    if target_scale == 'Celsius':\n",
    "        return print(f'{temperature_farenheit-32}, Celsius')\n",
    "    if target_scale == 'Kelvin':\n",
    "        return print(f'{temperature_farenheit+255.372}, Kelvin')"
   ]
  },
  {
   "cell_type": "code",
   "execution_count": 26,
   "id": "7e3eebb8",
   "metadata": {},
   "outputs": [
    {
     "name": "stdout",
     "output_type": "stream",
     "text": [
      "0, Celsius\n"
     ]
    }
   ],
   "source": [
    "convert_farenheit(32, 'Celsius')"
   ]
  },
  {
   "cell_type": "markdown",
   "id": "92a9371f",
   "metadata": {},
   "source": [
    "#### Exercise 3"
   ]
  },
  {
   "cell_type": "code",
   "execution_count": 4,
   "id": "203087c5",
   "metadata": {},
   "outputs": [],
   "source": [
    "## Making a source Kelvin function to convert to celsius or farenheit\n",
    "def convert_kelvin(temperature_kelvin, target_scale='Celsius'):\n",
    "    if target_scale == 'Farenheit':\n",
    "        return print(f'{(temperature_kelvin-273.15)*(9/5) + 32}, Farenheit')\n",
    "    if target_scale == 'Celsius':\n",
    "        return print(f'{temperature_kelvin-273.15}, Celsius')"
   ]
  },
  {
   "cell_type": "code",
   "execution_count": 44,
   "id": "af541e1a",
   "metadata": {},
   "outputs": [
    {
     "name": "stdout",
     "output_type": "stream",
     "text": [
      "80.33000000000004, Farenheit\n"
     ]
    }
   ],
   "source": [
    "convert_kelvin(300, 'Farenheit')"
   ]
  },
  {
   "cell_type": "code",
   "execution_count": 22,
   "id": "cfb63980",
   "metadata": {},
   "outputs": [
    {
     "name": "stdout",
     "output_type": "stream",
     "text": [
      "32, Farenheit\n",
      "-0.14999999999997726, Celsius\n"
     ]
    }
   ],
   "source": [
    "def convert_temperature(temperature, source_scale, target_scale):\n",
    "    if target_scale == 'Celsius' or target_scale == 'Farenheit' or target_scale == 'Kelvin':\n",
    "        if source_scale == 'Celsius':\n",
    "            return convert_celsius(temperature, target_scale)\n",
    "        if source_scale == 'Farenheit':\n",
    "            return convert_farenheit(temperature, target_scale)\n",
    "        if source_scale == 'Kelvin':\n",
    "            return convert_kelvin(temperature, target_scale)\n",
    "    return 'Cannot be converted...'\n",
    "convert_temperature(0, 'Celsius', 'Farenheit')\n",
    "convert_temperature(273, 'Kelvin', 'Celsius')"
   ]
  },
  {
   "cell_type": "code",
   "execution_count": 23,
   "id": "fac5f91d",
   "metadata": {},
   "outputs": [
    {
     "data": {
      "text/plain": [
       "'Cannot be converted...'"
      ]
     },
     "execution_count": 23,
     "metadata": {},
     "output_type": "execute_result"
    }
   ],
   "source": [
    "convert_temperature(0, 'Celsius', 'Batman')"
   ]
  }
 ],
 "metadata": {
  "kernelspec": {
   "display_name": "base",
   "language": "python",
   "name": "python3"
  },
  "language_info": {
   "codemirror_mode": {
    "name": "ipython",
    "version": 3
   },
   "file_extension": ".py",
   "mimetype": "text/x-python",
   "name": "python",
   "nbconvert_exporter": "python",
   "pygments_lexer": "ipython3",
   "version": "3.13.5"
  },
  "toc": {
   "base_numbering": 1,
   "nav_menu": {},
   "number_sections": true,
   "sideBar": true,
   "skip_h1_title": false,
   "title_cell": "Table of Contents",
   "title_sidebar": "Contents",
   "toc_cell": false,
   "toc_position": {},
   "toc_section_display": true,
   "toc_window_display": false
  }
 },
 "nbformat": 4,
 "nbformat_minor": 5
}
