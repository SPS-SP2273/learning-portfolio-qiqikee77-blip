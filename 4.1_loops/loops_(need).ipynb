{
 "cells": [
  {
   "attachments": {},
   "cell_type": "markdown",
   "id": "123456",
   "metadata": {},
   "source": [
    "<div style=\"text-align:left;font-size:2em\"><span style=\"font-weight:bolder;font-size:1.25em\">SP2273 | Learning Portfolio</span><br><br><span style=\"font-weight:bold;color:darkred\">Loops (Need)</span></div>"
   ]
  },
  {
   "attachments": {},
   "cell_type": "markdown",
   "id": "123456",
   "metadata": {},
   "source": [
    "# What to expect in this chapter"
   ]
  },
  {
   "attachments": {},
   "cell_type": "markdown",
   "id": "123456",
   "metadata": {},
   "source": [
    "# 1 The for iterator"
   ]
  },
  {
   "cell_type": "code",
   "execution_count": null,
   "id": "cdebf029",
   "metadata": {},
   "outputs": [],
   "source": [
    "real_names = [\"Natasha Romanoff\", \"Tony Stark\", \"Stephen Strange\"] + [\"Peter Parker\", \"Johnny Storm\"]\n",
    "superhero_names = [\"Black Widow\", \"Iron Man\", \"Doctor Strange\"] + [\"Spiderman\", ]"
   ]
  },
  {
   "attachments": {},
   "cell_type": "markdown",
   "id": "123456",
   "metadata": {},
   "source": [
    "## 1.1 for with a list"
   ]
  },
  {
   "cell_type": "code",
   "execution_count": null,
   "id": "215d0f87",
   "metadata": {},
   "outputs": [
    {
     "name": "stdout",
     "output_type": "stream",
     "text": [
      "Natasha Romanoff\n",
      "Tony Stark\n",
      "Stephen Strange\n",
      "Peter Parker\n"
     ]
    }
   ],
   "source": [
    "for name in real_names + [\"Peter Parker\"]: # need a colon to use \"for\"\n",
    "    print(name) # need to put an indent before print"
   ]
  },
  {
   "cell_type": "code",
   "execution_count": 8,
   "id": "42a62d53",
   "metadata": {},
   "outputs": [
    {
     "name": "stdout",
     "output_type": "stream",
     "text": [
      "1 Natasha Romanoff\n",
      "1 Tony Stark\n",
      "1 Stephen Strange\n"
     ]
    }
   ],
   "source": [
    "for name in real_names: # name refers to the string elements in the list\n",
    "    count = 0 # placing this under the for function makes it redundant\n",
    "    count += 1\n",
    "    print(count, name)"
   ]
  },
  {
   "cell_type": "code",
   "execution_count": null,
   "id": "8889dc79",
   "metadata": {},
   "outputs": [
    {
     "name": "stdout",
     "output_type": "stream",
     "text": [
      "1 Natasha Romanoff\n",
      "2 Tony Stark\n",
      "3 Stephen Strange\n"
     ]
    }
   ],
   "source": [
    "count = 0 \n",
    "# placing this outside guarantees that Python will count starting from 0\n",
    "for name in real_names: # name refers to the string elements in the list\n",
    "    count += 1 # \n",
    "    print(count, name)"
   ]
  },
  {
   "cell_type": "code",
   "execution_count": null,
   "id": "5e7874c9",
   "metadata": {},
   "outputs": [
    {
     "name": "stdout",
     "output_type": "stream",
     "text": [
      "0 Natasha Romanoff\n",
      "0 Tony Stark\n",
      "0 Stephen Strange\n",
      "0 Peter Parker\n",
      "0 Johnny Storm\n"
     ]
    }
   ],
   "source": [
    "count = 0 \n",
    "# placing this outside guarantees that Python will count starting from 0\n",
    "for name in real_names: # name refers to the string elements in the list\n",
    "        print(count, name)\n",
    "count += 1 \n",
    "# when count is outside of the loop, after \"print\",\n",
    "# it does not affect the count of each element that is printed "
   ]
  },
  {
   "cell_type": "code",
   "execution_count": 14,
   "id": "e9c2bb82",
   "metadata": {},
   "outputs": [
    {
     "name": "stdout",
     "output_type": "stream",
     "text": [
      "1 Natasha ROMANOFF\n",
      "2 Tony STARK\n",
      "3 Stephen STRANGE\n"
     ]
    }
   ],
   "source": [
    "for count, name in enumerate(real_names, start=1): \n",
    "    # enumerate keeps count, and can index 2 lists using that count\n",
    "    first_name, last_name = name.split()\n",
    "    print(count, first_name, last_name.upper())"
   ]
  },
  {
   "attachments": {},
   "cell_type": "markdown",
   "id": "123456",
   "metadata": {},
   "source": [
    "## 1.2 for with enumerate"
   ]
  },
  {
   "attachments": {},
   "cell_type": "markdown",
   "id": "123456",
   "metadata": {},
   "source": [
    "## 1.3 for with range"
   ]
  },
  {
   "cell_type": "code",
   "execution_count": 16,
   "id": "328e7fcf",
   "metadata": {},
   "outputs": [
    {
     "name": "stdout",
     "output_type": "stream",
     "text": [
      "['Natasha Romanoff', 'Tony Stark', 'Stephen Strange', 'Peter Parker', 'Johnny Storm']\n"
     ]
    }
   ],
   "source": [
    "print(real_names)"
   ]
  },
  {
   "cell_type": "code",
   "execution_count": null,
   "id": "9ebf21fe",
   "metadata": {},
   "outputs": [
    {
     "name": "stdout",
     "output_type": "stream",
     "text": [
      "1 Natasha Romanoff\n",
      "2 Tony Stark\n",
      "3 Stephen Strange\n",
      "4 Peter Parker\n",
      "5 Johnny Storm\n"
     ]
    }
   ],
   "source": [
    "for i in range(len(real_names)): \n",
    "# this defines the range by the total number of elements in \"real_names\"\n",
    "    print(i+1, real_names[i]) \n",
    "    # range will start counting from 0 by default, \n",
    "    # so the first printed name has a count of 0+1=1"
   ]
  },
  {
   "cell_type": "code",
   "execution_count": null,
   "id": "e9503aa2",
   "metadata": {},
   "outputs": [
    {
     "name": "stdout",
     "output_type": "stream",
     "text": [
      "1 Natasha Romanoff\n",
      "2 Tony Stark\n"
     ]
    }
   ],
   "source": [
    "for i in range(0, 2): \n",
    "# this defines the start and end of the range\n",
    "# range always ends one short of the (defined?) ending number \n",
    "# (excludes ending)\n",
    "    print(i+1, real_names[i])"
   ]
  },
  {
   "attachments": {},
   "cell_type": "markdown",
   "id": "123456",
   "metadata": {},
   "source": [
    "# 2 while"
   ]
  },
  {
   "cell_type": "code",
   "execution_count": null,
   "id": "2ab6f140",
   "metadata": {},
   "outputs": [],
   "source": [
    "i=0\n",
    "while i<10\n",
    "    print(i) # this will cause the kernel to endlessly print \"0\""
   ]
  },
  {
   "cell_type": "code",
   "execution_count": 22,
   "id": "3003894b",
   "metadata": {},
   "outputs": [],
   "source": [
    "x=0\n",
    "while x > 1E-3:\n",
    "    print(x)\n",
    "    x /= 2"
   ]
  },
  {
   "cell_type": "code",
   "execution_count": 25,
   "id": "b61d0093",
   "metadata": {},
   "outputs": [
    {
     "name": "stdout",
     "output_type": "stream",
     "text": [
      "x*180/np.pi=57.2957795131 np.sin(x)=0.84147098 np.tan(x)=1.55740772 False\n",
      "x*180/np.pi=28.6478897565 np.sin(x)=0.47942554 np.tan(x)=0.54630249 False\n",
      "x*180/np.pi=14.3239448783 np.sin(x)=0.24740396 np.tan(x)=0.25534192 False\n",
      "x*180/np.pi=7.1619724391 np.sin(x)=0.12467473 np.tan(x)=0.12565514 False\n",
      "x*180/np.pi=3.5809862196 np.sin(x)=0.06245932 np.tan(x)=0.06258151 False\n",
      "x*180/np.pi=1.7904931098 np.sin(x)=0.03124491 np.tan(x)=0.03126018 False\n",
      "x*180/np.pi=0.8952465549 np.sin(x)=0.01562436 np.tan(x)=0.01562627 False\n",
      "x*180/np.pi=0.4476232774 np.sin(x)=0.00781242 np.tan(x)=0.00781266 False\n",
      "x*180/np.pi=0.2238116387 np.sin(x)=0.00390624 np.tan(x)=0.00390627 True\n",
      "x*180/np.pi=0.1119058194 np.sin(x)=0.00195312 np.tan(x)=0.00195313 True\n",
      "x*180/np.pi=0.0559529097 np.sin(x)=0.00097656 np.tan(x)=0.00097656 True\n",
      "x*180/np.pi=0.0279764548 np.sin(x)=0.00048828 np.tan(x)=0.00048828 True\n",
      "x*180/np.pi=0.0139882274 np.sin(x)=0.00024414 np.tan(x)=0.00024414 True\n",
      "x*180/np.pi=0.0069941137 np.sin(x)=0.00012207 np.tan(x)=0.00012207 True\n",
      "x*180/np.pi=0.0034970569 np.sin(x)=0.00006104 np.tan(x)=0.00006104 True\n",
      "x*180/np.pi=0.0017485284 np.sin(x)=0.00003052 np.tan(x)=0.00003052 True\n",
      "x*180/np.pi=0.0008742642 np.sin(x)=0.00001526 np.tan(x)=0.00001526 True\n"
     ]
    }
   ],
   "source": [
    "import numpy as np\n",
    "x=1\n",
    "while x > 1E-5:\n",
    "    print(\n",
    "        f'{x*180/np.pi=:.10f}',\n",
    "        f'{np.sin(x)=:.8f}',\n",
    "        f'{np.tan(x)=:.8f}',\n",
    "        np.isclose(np.sin(x), np.tan(x))\n",
    "    )\n",
    "    x /= 2"
   ]
  },
  {
   "cell_type": "code",
   "execution_count": 32,
   "id": "152b5853",
   "metadata": {},
   "outputs": [
    {
     "name": "stdout",
     "output_type": "stream",
     "text": [
      "x*180/np.pi=57.2957795131 np.sin(x)=0.84147098 np.tan(x)=1.55740772 False\n",
      "x*180/np.pi=57.2957795131 np.sin(x)=0.84147098 np.tan(x)=1.55740772 False\n",
      "x*180/np.pi=57.2957795131 np.sin(x)=0.84147098 np.tan(x)=1.55740772 False\n",
      "x*180/np.pi=57.2957795131 np.sin(x)=0.84147098 np.tan(x)=1.55740772 False\n",
      "x*180/np.pi=57.2957795131 np.sin(x)=0.84147098 np.tan(x)=1.55740772 False\n"
     ]
    }
   ],
   "source": [
    "for _ in range(5):\n",
    "    x=1\n",
    "    print(\n",
    "        f'{x*180/np.pi=:.10f}',\n",
    "        f'{np.sin(x)=:.8f}',\n",
    "        f'{np.tan(x)=:.8f}',\n",
    "        np.isclose(np.sin(x), np.tan(x))\n",
    "        )\n",
    "    x /= 2"
   ]
  },
  {
   "cell_type": "code",
   "execution_count": null,
   "id": "a9a6cc54",
   "metadata": {},
   "outputs": [],
   "source": []
  }
 ],
 "metadata": {
  "kernelspec": {
   "display_name": "base",
   "language": "python",
   "name": "python3"
  },
  "language_info": {
   "codemirror_mode": {
    "name": "ipython",
    "version": 3
   },
   "file_extension": ".py",
   "mimetype": "text/x-python",
   "name": "python",
   "nbconvert_exporter": "python",
   "pygments_lexer": "ipython3",
   "version": "3.13.5"
  },
  "toc": {
   "base_numbering": 1,
   "nav_menu": {},
   "number_sections": true,
   "sideBar": true,
   "skip_h1_title": false,
   "title_cell": "Table of Contents",
   "title_sidebar": "Contents",
   "toc_cell": false,
   "toc_position": {},
   "toc_section_display": true,
   "toc_window_display": false
  }
 },
 "nbformat": 4,
 "nbformat_minor": 5
}
