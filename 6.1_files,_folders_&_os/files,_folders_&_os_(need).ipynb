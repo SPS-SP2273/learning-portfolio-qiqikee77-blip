{
 "cells": [
  {
   "attachments": {},
   "cell_type": "markdown",
   "id": "123456",
   "metadata": {},
   "source": [
    "<div style=\"text-align:left;font-size:2em\"><span style=\"font-weight:bolder;font-size:1.25em\">SP2273 | Learning Portfolio</span><br><br><span style=\"font-weight:bold;color:darkred\">Files, Folders & OS (Need)</span></div>"
   ]
  },
  {
   "attachments": {},
   "cell_type": "markdown",
   "id": "123456",
   "metadata": {},
   "source": [
    "# What to expect in this chapter"
   ]
  },
  {
   "attachments": {},
   "cell_type": "markdown",
   "id": "123456",
   "metadata": {},
   "source": [
    "# 1 Important concepts"
   ]
  },
  {
   "cell_type": "markdown",
   "id": "543af89f",
   "metadata": {},
   "source": [
    "** directory = folder **"
   ]
  },
  {
   "attachments": {},
   "cell_type": "markdown",
   "id": "123456",
   "metadata": {},
   "source": [
    "## 1.1 Path"
   ]
  },
  {
   "cell_type": "markdown",
   "id": "4853fadf",
   "metadata": {},
   "source": [
    "- A way to specify location of a file or folder\n",
    "\n",
    "- Can be absolute or relative"
   ]
  },
  {
   "attachments": {},
   "cell_type": "markdown",
   "id": "123456",
   "metadata": {},
   "source": [
    "## 1.2 More about relative paths"
   ]
  },
  {
   "cell_type": "markdown",
   "id": "d71375b9",
   "metadata": {},
   "source": [
    "- '..' means 'one folder above/up'\n",
    "- leave blank if referring to current folder\n",
    "\n",
    "    eg. \\data-files\\data-01.txt means the file data-01.txt in the folder data-files in the current folder.\n",
    "\n",
    "    but, ..\\data-files\\data-01.txt means the file data-01.txt in the folder data-files located in the folder above."
   ]
  },
  {
   "attachments": {},
   "cell_type": "markdown",
   "id": "123456",
   "metadata": {},
   "source": [
    "### macOS or Linux"
   ]
  },
  {
   "cell_type": "markdown",
   "id": "ae987b70",
   "metadata": {},
   "source": [
    "'~' refers to home directory/ folder, it is a relative path.\n",
    "\n",
    "eg. ~\\Desktop\\data-01.txt can be used to look for \"data-01.txt\" within my Desktop"
   ]
  },
  {
   "attachments": {},
   "cell_type": "markdown",
   "id": "123456",
   "metadata": {},
   "source": [
    "## 1.3 Path separator"
   ]
  },
  {
   "cell_type": "markdown",
   "id": "f34fd11d",
   "metadata": {},
   "source": [
    "Path separators are different for Windows and macOS (or Linux)\n",
    "- Windows\tC:\\\\Users\\chammika\\Desktop\\data-01.txt\n",
    "- macOS (or Linux)\t/Users/chammika/Desktop/data-01.txt\n",
    "\n",
    "- For code to work on both systems, must not hardcode either path separator. Can use Python os package to solve this."
   ]
  },
  {
   "attachments": {},
   "cell_type": "markdown",
   "id": "123456",
   "metadata": {},
   "source": [
    "## 1.4 Text files vs. Binary files"
   ]
  },
  {
   "cell_type": "markdown",
   "id": "e0596e41",
   "metadata": {},
   "source": [
    "All files in computer are either text or binary files\n",
    "\n",
    "Text files: .txt, .md, .csv\n",
    "\n",
    "Binary files: .png etc\n",
    "- cannot make sense of raw data in a .png file\n",
    "- some binary files will only run on specific OSs\n",
    "    eg. Excel.app will only run on Mac, while Excel.exe will only run on Windows"
   ]
  },
  {
   "attachments": {},
   "cell_type": "markdown",
   "id": "123456",
   "metadata": {},
   "source": [
    "## 1.5 Extensions"
   ]
  },
  {
   "cell_type": "markdown",
   "id": "995649c4",
   "metadata": {},
   "source": [
    "Extensions are usually denoted in this format: name.extension\n",
    "\n",
    "They indicate what software or app the OS must use to extract details from a file."
   ]
  },
  {
   "attachments": {},
   "cell_type": "markdown",
   "id": "123456",
   "metadata": {},
   "source": [
    "# 2 Opening and closing files"
   ]
  },
  {
   "attachments": {},
   "cell_type": "markdown",
   "id": "123456",
   "metadata": {},
   "source": [
    "## 2.1 Reading data"
   ]
  },
  {
   "cell_type": "code",
   "execution_count": null,
   "id": "4fad69a0",
   "metadata": {},
   "outputs": [],
   "source": [
    "## Code to read a text file: \n",
    "\n",
    "with open('spectrum-01.txt', 'r') as file: # 'r' indicates the action to\n",
    "                                           # 'read' from the file\n",
    "                                           # 'with' closes the file \n",
    "                                           # once done\n",
    "    file_content = file.read()\n",
    "\n",
    "print(file_content)"
   ]
  },
  {
   "attachments": {},
   "cell_type": "markdown",
   "id": "123456",
   "metadata": {},
   "source": [
    "## 2.2 Writing data"
   ]
  },
  {
   "cell_type": "code",
   "execution_count": 3,
   "id": "56d522d5",
   "metadata": {},
   "outputs": [],
   "source": [
    "# Writing data INTO a file !\n",
    "# example of data to be written into file:\n",
    "text = 'Far out in the uncharted backwaters of the unfashionable end of the western spiral arm of the Galaxy lies a small unregarded yellow sun.\\nOrbiting this at a distance of roughly ninety-two million miles is an utterly insignificant little blue green planet whose ape-descended life forms are so amazingly primitive that they still think digital watches are a pretty neat idea.'"
   ]
  },
  {
   "attachments": {},
   "cell_type": "markdown",
   "id": "123456",
   "metadata": {},
   "source": [
    "### Writing to a file in one go"
   ]
  },
  {
   "cell_type": "code",
   "execution_count": null,
   "id": "123456",
   "metadata": {},
   "outputs": [],
   "source": [
    "# Method 1:\n",
    "with open('my-text-once.txt', 'w') as file: # 'w' indicates that\n",
    "                                            # the file is to be opened\n",
    "                                            # for writing\n",
    "    file.write(text)\n",
    "# file will open within this folder :O"
   ]
  },
  {
   "attachments": {},
   "cell_type": "markdown",
   "id": "123456",
   "metadata": {},
   "source": [
    "### Writing to a file, line by line"
   ]
  },
  {
   "cell_type": "code",
   "execution_count": null,
   "id": "123456",
   "metadata": {},
   "outputs": [
    {
     "name": "stdout",
     "output_type": "stream",
     "text": [
      "Far out in the uncharted backwaters of the unfashionable end of the western spiral arm of the Galaxy lies a small unregarded yellow sun.\n",
      "Orbiting this at a distance of roughly ninety-two million miles is an utterly insignificant little blue green planet whose ape-descended life forms are so amazingly primitive that they still think digital watches are a pretty neat idea.\n",
      "Far out in the uncharted backwaters of the unfashionable end of the western spiral arm of the Galaxy lies a small unregarded yellow sun.\n",
      "Orbiting this at a distance of roughly ninety-two million miles is an utterly insignificant little blue green planet whose ape-descended life forms are so amazingly primitive that they still think digital watches are a pretty neat idea.\n"
     ]
    }
   ],
   "source": [
    "# Method 2:\n",
    "with open('my-text-lines.txt', 'a') as file: # 'a' indicates that the\n",
    "                                             # file is to be opened\n",
    "                                             # to append (adds any \n",
    "                                             # writing to the end)\n",
    "    for line in text.splitlines():\n",
    "        print(text)\n",
    "        file.write(line)"
   ]
  },
  {
   "attachments": {},
   "cell_type": "markdown",
   "id": "123456",
   "metadata": {},
   "source": [
    "# 3 Some useful packages"
   ]
  },
  {
   "cell_type": "code",
   "execution_count": 1,
   "id": "45acfae5",
   "metadata": {},
   "outputs": [],
   "source": [
    "import os       # To 'talk' to OS to create, modify, delete  folders\n",
    "import glob     # To search for files\n",
    "import shutil   # To copy files"
   ]
  },
  {
   "attachments": {},
   "cell_type": "markdown",
   "id": "123456",
   "metadata": {},
   "source": [
    "# 4 OS safe paths"
   ]
  },
  {
   "cell_type": "code",
   "execution_count": null,
   "id": "c371a3cc",
   "metadata": {},
   "outputs": [],
   "source": [
    "# To access a file data-01.txt \n",
    "# in the sub-directory sg-data \n",
    "# of directory all-data\n",
    "\n",
    "path = os.path.join('all-data', 'sg-data', 'data-01.txt')\n",
    "# os.path.join('directory', 'sub-directory', 'name')\n",
    "print(path)"
   ]
  },
  {
   "attachments": {},
   "cell_type": "markdown",
   "id": "123456",
   "metadata": {},
   "source": [
    "# 5 Folders"
   ]
  },
  {
   "attachments": {},
   "cell_type": "markdown",
   "id": "123456",
   "metadata": {},
   "source": [
    "## 5.1 Creating folders"
   ]
  },
  {
   "cell_type": "code",
   "execution_count": 9,
   "id": "28734a8e",
   "metadata": {},
   "outputs": [
    {
     "name": "stdout",
     "output_type": "stream",
     "text": [
      "Creating people/John\n",
      "Creating people/Paul\n",
      "Creating people/Ringo\n"
     ]
    }
   ],
   "source": [
    "os.mkdir('people')\n",
    "\n",
    "for person in ['John', 'Paul', 'Ringo']:\n",
    "    path = os.path.join('people', person)\n",
    "    print(f'Creating {path}')\n",
    "    os.mkdir(path)"
   ]
  },
  {
   "attachments": {},
   "cell_type": "markdown",
   "id": "123456",
   "metadata": {},
   "source": [
    "## 5.2 Checking for existence"
   ]
  },
  {
   "attachments": {},
   "cell_type": "markdown",
   "id": "123456",
   "metadata": {},
   "source": [
    "### Using try-except"
   ]
  },
  {
   "cell_type": "code",
   "execution_count": null,
   "id": "123456",
   "metadata": {},
   "outputs": [],
   "source": [
    "for person in ['John', 'Paul', 'Ringo']:\n",
    "    path = os.path.join('people', person)\n",
    "    \n",
    "    try:\n",
    "        os.mkdir(path)\n",
    "        print(f'Creating {path}')\n",
    "    except FileExistsError: # 'except' ALWAYS comes with 'try'\n",
    "        print(f'{path} already exists; skipping creation.')"
   ]
  },
  {
   "attachments": {},
   "cell_type": "markdown",
   "id": "123456",
   "metadata": {},
   "source": [
    "### Using os.path.exists()"
   ]
  },
  {
   "cell_type": "code",
   "execution_count": null,
   "id": "123456",
   "metadata": {},
   "outputs": [],
   "source": [
    "for person in ['John', 'Paul', 'Ringo']:\n",
    "    path = os.path.join('people', person)\n",
    "\n",
    "    if os.path.exists(path): # checking if file (folder) exists\n",
    "        print(f'{path} already exists; skipping creation.')\n",
    "    else:\n",
    "        os.mkdir(path)\n",
    "        print(f'Creating {path}')"
   ]
  },
  {
   "attachments": {},
   "cell_type": "markdown",
   "id": "123456",
   "metadata": {},
   "source": [
    "## 5.3 Copying files"
   ]
  },
  {
   "cell_type": "code",
   "execution_count": null,
   "id": "2514fec2",
   "metadata": {},
   "outputs": [],
   "source": [
    "# Copying a file from one folder to another (or few others)\n",
    "\n",
    "for person in ['John', 'Paul', 'Ringo']:\n",
    "    path_to_destination = os.path.join('people', person) # creates path\n",
    "    shutil.copy('sp2273_logo.png', path_to_destination)  # copies and\n",
    "                                                         # indicates\n",
    "                                                         # path for copy\n",
    "                                                         # to go\n",
    "    print(f'Copied file to {path_to_destination}')"
   ]
  },
  {
   "cell_type": "code",
   "execution_count": null,
   "id": "5bddecab",
   "metadata": {},
   "outputs": [],
   "source": [
    "# Adding a sub-folder into other folders\n",
    "\n",
    "for person in ['John', 'Paul', 'Ringo']:\n",
    "    # Create folder 'imgs'\n",
    "    path_to_imgs = os.path.join('people', person, 'imgs')\n",
    "    if not os.path.exists(path_to_imgs): # if path (condition) \n",
    "                                         # doesnt exist;\n",
    "        os.mkdir(path_to_imgs)           # proceed to create path\n",
    "\n",
    "    # Defining new path\n",
    "    current_path_of_logo = os.path.join('people', person, 'sp2273_logo.png')\n",
    "    new_path_of_logo = os.path.join('people', person, 'imgs', 'sp2273_logo.png')\n",
    "\n",
    "    # Changing current path of file to a new path\n",
    "    shutil.move(current_path_of_logo, new_path_of_logo)\n",
    "    print(f'Moved logo to {new_path_of_logo}')"
   ]
  },
  {
   "attachments": {},
   "cell_type": "markdown",
   "id": "123456",
   "metadata": {},
   "source": [
    "# 6 Listing and looking for files"
   ]
  },
  {
   "cell_type": "markdown",
   "id": "5fa249f9",
   "metadata": {},
   "source": [
    "'*' is read as 'anything' (wildcard)\n",
    "\n",
    "The following code: glob.glob('*')\n",
    "is asking glob to give anything in the folder"
   ]
  },
  {
   "cell_type": "markdown",
   "id": "0f91af60",
   "metadata": {},
   "source": [
    "**To see whole, detailed structure of a particular folder** ('people')\n",
    "\n",
    "'**' refers to all sub-directories\n",
    "\n",
    "to tell glob to look through all *sub-file directories??*, \n",
    "use \"recursive=True\" at the end.\n",
    "\n",
    "eg. glob.glob('people/**', recursive=True)"
   ]
  },
  {
   "cell_type": "markdown",
   "id": "f2f1c85e",
   "metadata": {},
   "source": [
    "**To refine glob's search**:\n",
    "\n",
    "use the format glob.glob('fixed*/*'), where 'fixed' is referring to\n",
    "fixed sequence of characters for glob to look for in names of files when choosing which files to open.\n",
    "\n",
    "eg. glob.glob('peo*/*') is asking glob to look for all files starting with \"peo\", where the ending can be anything."
   ]
  },
  {
   "cell_type": "markdown",
   "id": "fffbfdf2",
   "metadata": {},
   "source": [
    "**To access specific file types within a particular folder**\n",
    "\n",
    "for accessing .png files in directory 'people':\n",
    "\n",
    "code: glob.glob('people/**/*.png', recursive=True)"
   ]
  },
  {
   "attachments": {},
   "cell_type": "markdown",
   "id": "123456",
   "metadata": {},
   "source": [
    "# 7 Extracting file info"
   ]
  },
  {
   "cell_type": "code",
   "execution_count": null,
   "id": "459f7bae",
   "metadata": {},
   "outputs": [],
   "source": [
    "# Extraction of filename, folder, extension information\n",
    "\n",
    "path = 'people/Ringo/imgs/sp2273_logo.png'\n",
    "filename = path.split(os.path.sep)[-1] # os.path.sep refers to the path \n",
    "                                       # separator (\\ or /) splitting \n",
    "                                       # the path where the separators \n",
    "                                       # are present\n",
    "                                       \n",
    "                                       ## [-1] index picks the last\n",
    "                                       ## element from where the \n",
    "                                       ## separation occurred.\n",
    "\n",
    "extension = filename.split('.')[-1]    # ???\n",
    "print(filename, extension)"
   ]
  },
  {
   "cell_type": "code",
   "execution_count": null,
   "id": "c3350263",
   "metadata": {},
   "outputs": [],
   "source": [
    "# Can use functions to perform this task instead:\n",
    "# For\n",
    "path = 'people/Ringo/imgs/sp2273_logo.png'\n",
    "\n",
    "#1 os.path.split()\n",
    "os.path.split(path)      # Split filename from the rest\n",
    "\n",
    "#2 os.path.splittext()\n",
    "os.path.splitext(path)   # Split extension\n",
    "\n",
    "#3 os.path.dirname\n",
    "os.path.dirname(path)    # Show the directory"
   ]
  },
  {
   "attachments": {},
   "cell_type": "markdown",
   "id": "123456",
   "metadata": {},
   "source": [
    "# 8 Deleting stuff"
   ]
  },
  {
   "cell_type": "code",
   "execution_count": null,
   "id": "a732313e",
   "metadata": {},
   "outputs": [],
   "source": [
    "# To remove a file:\n",
    "os.remove('people/Ringo/imgs/sp2273_logo.png')\n",
    "\n",
    "# To remove an empty directory:\n",
    "os.rmdir('people/Ringo')\n",
    "\n",
    "# To remove a directory with files or sub-directories:\n",
    "shutil.rmtree('people/Ringo')"
   ]
  }
 ],
 "metadata": {
  "kernelspec": {
   "display_name": "base",
   "language": "python",
   "name": "python3"
  },
  "language_info": {
   "codemirror_mode": {
    "name": "ipython",
    "version": 3
   },
   "file_extension": ".py",
   "mimetype": "text/x-python",
   "name": "python",
   "nbconvert_exporter": "python",
   "pygments_lexer": "ipython3",
   "version": "3.13.5"
  },
  "toc": {
   "base_numbering": 1,
   "nav_menu": {},
   "number_sections": true,
   "sideBar": true,
   "skip_h1_title": false,
   "title_cell": "Table of Contents",
   "title_sidebar": "Contents",
   "toc_cell": false,
   "toc_position": {},
   "toc_section_display": true,
   "toc_window_display": false
  }
 },
 "nbformat": 4,
 "nbformat_minor": 5
}
