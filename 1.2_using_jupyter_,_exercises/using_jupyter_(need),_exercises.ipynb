{
 "cells": [
  {
   "attachments": {},
   "cell_type": "markdown",
   "id": "123456",
   "metadata": {},
   "source": [
    "<div style=\"text-align:left;font-size:2em\"><span style=\"font-weight:bolder;font-size:1.25em\">SP2273 | Learning Portfolio</span><br><br><span style=\"font-weight:bold;color:darkred\">Using Jupyter (Need), Exercises</span></div>"
   ]
  },
  {
   "attachments": {},
   "cell_type": "markdown",
   "id": "123456",
   "metadata": {},
   "source": [
    "## 1 Quadratic Equations"
   ]
  },
  {
   "attachments": {},
   "cell_type": "markdown",
   "id": "123456",
   "metadata": {},
   "source": [
    "### Introduction"
   ]
  },
  {
   "cell_type": "markdown",
   "id": "123456",
   "metadata": {},
   "source": [
    "\n",
    "![](https://upload.wikimedia.org/wikipedia/commons/thumb/f/f8/Polynomialdeg2.svg/300px-Polynomialdeg2.svg.png)\n",
    "\n",
    "*(Image from the [Wikipedia page on Quadratic equations](https://en.wikipedia.org/wiki/Quadratic_equation))*\n",
    "\n",
    "The general form of a quadratic equation is:\n",
    "\n",
    "$$ax^2 + bx + c = 0$$"
   ]
  },
  {
   "attachments": {},
   "cell_type": "markdown",
   "id": "123456",
   "metadata": {},
   "source": [
    "### Solutions"
   ]
  },
  {
   "cell_type": "markdown",
   "id": "123456",
   "metadata": {},
   "source": [
    "\n",
    "Provided $a \\ne 0$, we can use an elementary algebraic method called [completing the square](https://en.wikipedia.org/wiki/Completing_the_square) to show that a quadratic equation has the following solution:\n",
    "$$x = \\dfrac{-b \\pm \\sqrt{b^2-4ac}}{2a}$$\n"
   ]
  },
  {
   "attachments": {},
   "cell_type": "markdown",
   "id": "123456",
   "metadata": {},
   "source": [
    "### Discriminant"
   ]
  },
  {
   "cell_type": "markdown",
   "id": "123456",
   "metadata": {
    "vscode": {
     "languageId": "latex"
    }
   },
   "source": [
    "\n",
    "The quantity $\\Delta = b^2 - 4ac$ is called the **discriminant** of the equation and decides the nature of its solutions. The table below shows the various possibilities.\n",
    "|  **Discriminant** | **Roots**  |\n",
    "|---|---|\n",
    "| $\\Delta = b^2 - 4ac = 0$  | A single solution of $-b/(2a)$ |\n",
    "| $\\Delta = b^2 - 4ac > 0$ | Two distinct solutions  | \n",
    "| $\\Delta = b^2 - 4ac < 0$  | No real solutions; both are complex.  |\n",
    "\n"
   ]
  },
  {
   "cell_type": "markdown",
   "id": "2dbb1788",
   "metadata": {},
   "source": [
    "1. What is a Git **repository**?\n",
    "Answer: A Git repository is a database where you can manage your code and files, and keeps track of changes in your files and projects in GitHub, which allows you to update changes to your projects to the cloud.\n",
    "\n",
    "2. Git keeps track of ____BLANK____ in the files in our repository.\n",
    "Answer: Git keeps track of changes in the files in our repository.\n",
    "\n",
    "3. What is a **commmit**?\n",
    "Answer: A commit saves the change you made to your file in GitHub, which allows you to check the changes made and update the version of your file before you upload it to the cloud.\n",
    "\n",
    "4. What is a **push**?\n",
    "Answer: A push is when you upload the modified version of your files into the cloud for the data to be stored and be accessible through other devices.\n",
    "\n",
    "5. What is a **pull**?\n",
    "Answer: A pull is when you download data stored in the cloud into your computer, which could have been uploaded into the cloud through a different device.\n",
    "\n",
    "6. What is the difference between **GitHub** and **GitHub Desktop** ?\n",
    "Answer: GitHub Desktop is a graphical user interface (GUI) that allows users to interact and work with GitHub easily."
   ]
  },
  {
   "cell_type": "markdown",
   "id": "a27497b8",
   "metadata": {},
   "source": [
    "$$\\mu = \\dfrac{1}{n} \\sum_{i=1}^n x_i$$"
   ]
  },
  {
   "cell_type": "markdown",
   "id": "a61f9f18",
   "metadata": {},
   "source": [
    "$$\\sigma = \\sqrt{\\dfrac{1}{n} \\sum_{i=1}^n (x_i - \\mu)^2}$$"
   ]
  },
  {
   "cell_type": "markdown",
   "id": "672ab63d",
   "metadata": {},
   "source": [
    "$$r = \\dfrac{\\sum_{i=1}^n (x_i - \\mu_X)(y_i - \\mu_Y)}{\\sqrt {{\\sum_{i=1}^n (x_i - \\mu_X)^2} {\\sum_{i=1}^n (y_i - \\mu_Y)^2}}}$$"
   ]
  }
 ],
 "metadata": {
  "kernelspec": {
   "display_name": "base",
   "language": "python",
   "name": "python3"
  },
  "language_info": {
   "codemirror_mode": {
    "name": "ipython",
    "version": 3
   },
   "file_extension": ".py",
   "mimetype": "text/x-python",
   "name": "python",
   "nbconvert_exporter": "python",
   "pygments_lexer": "ipython3",
   "version": "3.13.5"
  },
  "toc": {
   "base_numbering": 1,
   "nav_menu": {},
   "number_sections": true,
   "sideBar": true,
   "skip_h1_title": false,
   "title_cell": "Table of Contents",
   "title_sidebar": "Contents",
   "toc_cell": false,
   "toc_position": {},
   "toc_section_display": true,
   "toc_window_display": false
  }
 },
 "nbformat": 4,
 "nbformat_minor": 5
}
