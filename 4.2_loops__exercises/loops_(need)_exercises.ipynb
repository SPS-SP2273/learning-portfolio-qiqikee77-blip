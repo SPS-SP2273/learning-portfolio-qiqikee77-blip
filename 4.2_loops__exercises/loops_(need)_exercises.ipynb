{
 "cells": [
  {
   "attachments": {},
   "cell_type": "markdown",
   "id": "123456",
   "metadata": {},
   "source": [
    "<div style=\"text-align:left;font-size:2em\"><span style=\"font-weight:bolder;font-size:1.25em\">SP2273 | Learning Portfolio</span><br><br><span style=\"font-weight:bold;color:darkred\">Loops (Need) Exercises</span></div>"
   ]
  },
  {
   "cell_type": "markdown",
   "id": "d818cf0b",
   "metadata": {},
   "source": [
    "#### Exercise 1"
   ]
  },
  {
   "cell_type": "code",
   "execution_count": 3,
   "id": "4c799f5d",
   "metadata": {},
   "outputs": [],
   "source": [
    "import numpy as np"
   ]
  },
  {
   "cell_type": "code",
   "execution_count": 4,
   "id": "733e1815",
   "metadata": {},
   "outputs": [
    {
     "name": "stdout",
     "output_type": "stream",
     "text": [
      "0\n",
      "32\n"
     ]
    }
   ],
   "source": [
    "temperatures_celsius = [0, 5, 10, 15, 20, 25, 30, 35, 40, 45, 50]\n",
    "temp_cel_np = np.array(temperatures_celsius)\n",
    "temp_far_np = temp_cel_np + 32\n",
    "\n",
    "print (temp_cel_np[0])\n",
    "print (temp_far_np[0])"
   ]
  },
  {
   "cell_type": "code",
   "execution_count": 6,
   "id": "814747c5",
   "metadata": {},
   "outputs": [
    {
     "name": "stdout",
     "output_type": "stream",
     "text": [
      "Celsius: 0, Farenheit: 32\n",
      "Celsius: 5, Farenheit: 37\n",
      "Celsius: 10, Farenheit: 42\n",
      "Celsius: 15, Farenheit: 47\n",
      "Celsius: 20, Farenheit: 52\n",
      "Celsius: 25, Farenheit: 57\n",
      "Celsius: 30, Farenheit: 62\n",
      "Celsius: 35, Farenheit: 67\n",
      "Celsius: 40, Farenheit: 72\n",
      "Celsius: 45, Farenheit: 77\n",
      "Celsius: 50, Farenheit: 82\n"
     ]
    }
   ],
   "source": [
    "for index, temp in enumerate(temp_cel_np):\n",
    "    temp_farenheit = temp_far_np[index]\n",
    "    print(f'Celsius: {temp}, Farenheit: {temp_farenheit}')"
   ]
  },
  {
   "cell_type": "markdown",
   "id": "48194493",
   "metadata": {},
   "source": [
    "#### Exercise 2"
   ]
  },
  {
   "cell_type": "code",
   "execution_count": null,
   "id": "406158d1",
   "metadata": {},
   "outputs": [
    {
     "name": "stdout",
     "output_type": "stream",
     "text": [
      "A1\tA2\tA3\t\n",
      "\n",
      "B1\tB2\tB3\t\n",
      "\n",
      "C1\tC2\tC3\t\n",
      "\n"
     ]
    }
   ],
   "source": [
    "for letter in ['A', 'B', 'C']:\n",
    "    for number in [1, 2, 3]:\n",
    "        print(f'{letter}{number}', end='\\t') # what is end='\\t' ?\n",
    "    print('\\n') # what is '\\n'?"
   ]
  },
  {
   "cell_type": "code",
   "execution_count": null,
   "id": "d143c9a1",
   "metadata": {},
   "outputs": [],
   "source": []
  }
 ],
 "metadata": {
  "kernelspec": {
   "display_name": "base",
   "language": "python",
   "name": "python3"
  },
  "language_info": {
   "codemirror_mode": {
    "name": "ipython",
    "version": 3
   },
   "file_extension": ".py",
   "mimetype": "text/x-python",
   "name": "python",
   "nbconvert_exporter": "python",
   "pygments_lexer": "ipython3",
   "version": "3.13.5"
  },
  "toc": {
   "base_numbering": 1,
   "nav_menu": {},
   "number_sections": true,
   "sideBar": true,
   "skip_h1_title": false,
   "title_cell": "Table of Contents",
   "title_sidebar": "Contents",
   "toc_cell": false,
   "toc_position": {},
   "toc_section_display": true,
   "toc_window_display": false
  }
 },
 "nbformat": 4,
 "nbformat_minor": 5
}
