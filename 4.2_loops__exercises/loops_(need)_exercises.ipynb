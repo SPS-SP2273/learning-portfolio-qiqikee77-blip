{
 "cells": [
  {
   "attachments": {},
   "cell_type": "markdown",
   "id": "123456",
   "metadata": {},
   "source": [
    "<div style=\"text-align:left;font-size:2em\"><span style=\"font-weight:bolder;font-size:1.25em\">SP2273 | Learning Portfolio</span><br><br><span style=\"font-weight:bold;color:darkred\">Loops (Need) Exercises</span></div>"
   ]
  },
  {
   "cell_type": "markdown",
   "id": "d818cf0b",
   "metadata": {},
   "source": [
    "#### Exercise 1"
   ]
  },
  {
   "cell_type": "code",
   "execution_count": 2,
   "id": "4c799f5d",
   "metadata": {},
   "outputs": [],
   "source": [
    "import numpy as np"
   ]
  },
  {
   "cell_type": "code",
   "execution_count": 3,
   "id": "733e1815",
   "metadata": {},
   "outputs": [
    {
     "name": "stdout",
     "output_type": "stream",
     "text": [
      "0\n",
      "32.0\n"
     ]
    }
   ],
   "source": [
    "temperatures_celsius = [0, 5, 10, 15, 20, 25, 30, 35, 40, 45, 50]\n",
    "temp_cel_np = np.array(temperatures_celsius)\n",
    "temp_far_np = (temp_cel_np * 9/5) + 32\n",
    "\n",
    "print (temp_cel_np[0])\n",
    "print (temp_far_np[0])"
   ]
  },
  {
   "cell_type": "code",
   "execution_count": 4,
   "id": "814747c5",
   "metadata": {},
   "outputs": [
    {
     "name": "stdout",
     "output_type": "stream",
     "text": [
      "Celsius: 0, Farenheit: 32.0\n",
      "Celsius: 5, Farenheit: 41.0\n",
      "Celsius: 10, Farenheit: 50.0\n",
      "Celsius: 15, Farenheit: 59.0\n",
      "Celsius: 20, Farenheit: 68.0\n",
      "Celsius: 25, Farenheit: 77.0\n",
      "Celsius: 30, Farenheit: 86.0\n",
      "Celsius: 35, Farenheit: 95.0\n",
      "Celsius: 40, Farenheit: 104.0\n",
      "Celsius: 45, Farenheit: 113.0\n",
      "Celsius: 50, Farenheit: 122.0\n"
     ]
    }
   ],
   "source": [
    "for index, temp in enumerate(temp_cel_np):\n",
    "    temp_farenheit = temp_far_np[index]\n",
    "    print(f'Celsius: {temp}, Farenheit: {temp_farenheit}')"
   ]
  },
  {
   "cell_type": "markdown",
   "id": "48194493",
   "metadata": {},
   "source": [
    "#### Exercise 2"
   ]
  },
  {
   "cell_type": "code",
   "execution_count": null,
   "id": "406158d1",
   "metadata": {},
   "outputs": [
    {
     "name": "stdout",
     "output_type": "stream",
     "text": [
      "A1\tA2\tA3\t\n",
      "\n",
      "B1\tB2\tB3\t\n",
      "\n",
      "C1\tC2\tC3\t\n",
      "\n"
     ]
    }
   ],
   "source": [
    "for letter in ['A', 'B', 'C']:\n",
    "    for number in [1, 2, 3]:\n",
    "        print(f'{letter}{number}', end='\\t') # end='\\t' means to \"tab\"\n",
    "    print('\\n') # '\\n' means to make a new line"
   ]
  },
  {
   "cell_type": "code",
   "execution_count": null,
   "id": "5035e9d0",
   "metadata": {},
   "outputs": [
    {
     "name": "stdout",
     "output_type": "stream",
     "text": [
      "A1\tA2\tA3\tB1\tB2\tB3\tC1\tC2\tC3\t"
     ]
    }
   ],
   "source": [
    "for letter in ['A', 'B', 'C']:\n",
    "    for number in [1, 2, 3]:\n",
    "        print(f'{letter}{number}', end='\\t')\n",
    "# without print(end=\"\\n\"), "
   ]
  },
  {
   "cell_type": "code",
   "execution_count": null,
   "id": "2289d00a",
   "metadata": {},
   "outputs": [
    {
     "name": "stdout",
     "output_type": "stream",
     "text": [
      "A1\n",
      "A2\n",
      "A3\n",
      "\n",
      "\n",
      "B1\n",
      "B2\n",
      "B3\n",
      "\n",
      "\n",
      "C1\n",
      "C2\n",
      "C3\n",
      "\n",
      "\n"
     ]
    }
   ],
   "source": [
    "for letter in ['A', 'B', 'C']:\n",
    "    for number in [1, 2, 3]:\n",
    "        print(f'{letter}{number}') # default \"end\" of each element is set to '\\n'\n",
    "    print('\\n')\n",
    "# without end='\\n', each set of data is printed together, \n",
    "# but separated by an empty line. \n",
    "# within each set of data, each element is printed on a new line."
   ]
  },
  {
   "cell_type": "code",
   "execution_count": null,
   "id": "4e010089",
   "metadata": {},
   "outputs": [
    {
     "name": "stdout",
     "output_type": "stream",
     "text": [
      "A1\n",
      "A2\n",
      "A3\n",
      "\n",
      "\n",
      "B1\n",
      "B2\n",
      "B3\n",
      "\n",
      "\n",
      "C1\n",
      "C2\n",
      "C3\n",
      "\n",
      "\n"
     ]
    }
   ],
   "source": [
    "for letter in ['A', 'B', 'C']:\n",
    "    for number in [1, 2, 3]:\n",
    "        print(f'{letter}{number}', end= '\\n')\n",
    "    print('\\n')\n",
    "# proves my comment in line 3 of the previous cell"
   ]
  },
  {
   "cell_type": "code",
   "execution_count": 6,
   "id": "d1d396c3",
   "metadata": {},
   "outputs": [],
   "source": [
    "import numpy as np\n",
    "first_row = [1, 2, 3, 4, 5]\n",
    "first_array = np.array(first_row)"
   ]
  },
  {
   "cell_type": "code",
   "execution_count": 7,
   "id": "b91d5cc8",
   "metadata": {},
   "outputs": [
    {
     "name": "stdout",
     "output_type": "stream",
     "text": [
      "1: [1 2 3 4 5]\n",
      "2: [1 2 3 4 5]\n",
      "3: [1 2 3 4 5]\n",
      "4: [1 2 3 4 5]\n",
      "5: [1 2 3 4 5]\n"
     ]
    }
   ],
   "source": [
    "for index, number in enumerate(first_array, start=1):\n",
    "    print(f'{index}: {first_array}', end='\\n')\n",
    "# gives me number sets in box brackets...\n",
    "    "
   ]
  },
  {
   "cell_type": "code",
   "execution_count": null,
   "id": "1ec63c64",
   "metadata": {},
   "outputs": [
    {
     "name": "stdout",
     "output_type": "stream",
     "text": [
      "1 : 1   2   3   4   5   \n",
      "2 : 2   4   6   8   10  \n",
      "3 : 3   6   9   12  15  \n",
      "4 : 4   8   12  16  20  \n",
      "5 : 5   10  15  20  25  \n"
     ]
    }
   ],
   "source": [
    "for index, number in enumerate(first_array, start=1):\n",
    "    print(f'{index} :', end=' ')\n",
    "    for factor in range(1, 6):\n",
    "        print(f'{number*factor:<4}', end='')\n",
    "    print() # printing \"nothing\", but ends with a newline\n",
    "# put print indecx outside inner loop so that it only prints index once\n",
    "# for each set of elements"
   ]
  },
  {
   "cell_type": "code",
   "execution_count": null,
   "id": "8fa6182b",
   "metadata": {},
   "outputs": [
    {
     "name": "stdout",
     "output_type": "stream",
     "text": [
      "5, 5   \n",
      "  5   \n"
     ]
    }
   ],
   "source": [
    "print(f\"{index:<0.0f}, {number: <4.0f}\")\n",
    "# formatting f string: for every variable, can format its printed output\n",
    "# format for variable X is {X:(pad)(alignment)(total characters).(decimal)(type of data)}\n",
    "# example; print({index: ^6.2f})\n",
    "## cannot put decimal places for integer type (d)\n",
    "print(f'{index: ^6.0f}')"
   ]
  },
  {
   "cell_type": "code",
   "execution_count": null,
   "id": "2fad4de3",
   "metadata": {},
   "outputs": [],
   "source": [
    "# New Strategy: what if i swap the two lists/arrays...?\n",
    "number_list = [1, 2, 3, 4, 5]\n",
    "factor = np.array(number_list) \n",
    "# I didnt know I couldnt make an array using this:\n",
    "    # factor = np.array(1, 2, 3, 4, 5)\n",
    "# I now realise that np arrays can only take 2 columns of data"
   ]
  },
  {
   "cell_type": "code",
   "execution_count": 38,
   "id": "869ba7c7",
   "metadata": {},
   "outputs": [
    {
     "name": "stdout",
     "output_type": "stream",
     "text": [
      "1: 1\t1: 2\t1: 3\t1: 4\t1: 5\t\n",
      "2: 2\t2: 4\t2: 6\t2: 8\t2: 10\t\n",
      "3: 3\t3: 6\t3: 9\t3: 12\t3: 15\t\n",
      "4: 4\t4: 8\t4: 12\t4: 16\t4: 20\t\n",
      "5: 5\t5: 10\t5: 15\t5: 20\t5: 25\t\n"
     ]
    }
   ],
   "source": [
    "for index, number in enumerate(factor, start=1):\n",
    "    for element in first_array:\n",
    "        print(f'{index}: {number*element}', end='\\t')\n",
    "    print(end='\\n')\n",
    "# I realise its only better because both are now arrays...\n",
    "# especially since both arrays have the exact same content..."
   ]
  },
  {
   "cell_type": "markdown",
   "id": "a9f77590",
   "metadata": {},
   "source": [
    "#### Exercise 3"
   ]
  },
  {
   "cell_type": "code",
   "execution_count": 84,
   "id": "3401659b",
   "metadata": {},
   "outputs": [
    {
     "data": {
      "text/plain": [
       "array([0.9217762 , 0.92685456, 0.96031339, 0.93727763])"
      ]
     },
     "execution_count": 84,
     "metadata": {},
     "output_type": "execute_result"
    }
   ],
   "source": [
    "probability_array = np.random.rand(10)\n",
    "# prints random numbers between 0 and 1 (hence gives probability)\n",
    "Heads = probability_array > 0.5\n",
    "probability_array[Heads]"
   ]
  },
  {
   "cell_type": "code",
   "execution_count": null,
   "id": "03f27008",
   "metadata": {},
   "outputs": [
    {
     "name": "stdout",
     "output_type": "stream",
     "text": [
      "Experiment  1: No. of Heads = 7\n",
      "Experiment  2: No. of Heads = 7\n",
      "Experiment  3: No. of Heads = 7\n",
      "Experiment  4: No. of Heads = 7\n",
      "Experiment  5: No. of Heads = 7\n",
      "Experiment  6: No. of Heads = 7\n",
      "Experiment  7: No. of Heads = 7\n",
      "Experiment  8: No. of Heads = 7\n",
      "Experiment  9: No. of Heads = 7\n",
      "Experiment  10: No. of Heads = 7\n"
     ]
    }
   ],
   "source": [
    "for index, prob in enumerate(probability_array, start=1):\n",
    "    print(f'Experiment  {index}: No. of Heads = {len(probability_array[Heads])}')\n",
    "# Ryan says I can only use one loop, but using enumerate will require 2 loops."
   ]
  },
  {
   "cell_type": "code",
   "execution_count": 96,
   "id": "78faf9d4",
   "metadata": {},
   "outputs": [
    {
     "name": "stdout",
     "output_type": "stream",
     "text": [
      "Experiment   1: No. of Heads = 6\n",
      "Experiment   2: No. of Heads = 3\n",
      "Experiment   3: No. of Heads = 2\n",
      "Experiment   4: No. of Heads = 3\n",
      "Experiment   5: No. of Heads = 3\n",
      "Experiment   6: No. of Heads = 3\n",
      "Experiment   7: No. of Heads = 6\n",
      "Experiment   8: No. of Heads = 3\n",
      "Experiment   9: No. of Heads = 5\n",
      "Experiment  10: No. of Heads = 5\n"
     ]
    }
   ],
   "source": [
    "for i in range(1, 11):\n",
    "    probability_array = np.random.rand(10)\n",
    "    Heads = probability_array > 0.5\n",
    "    print(f'Experiment  {i:>2}: No. of Heads = {len(probability_array[Heads])}')"
   ]
  },
  {
   "cell_type": "markdown",
   "id": "f4dd2f08",
   "metadata": {},
   "source": [
    "Not sure how to make it more streamlined"
   ]
  }
 ],
 "metadata": {
  "kernelspec": {
   "display_name": "base",
   "language": "python",
   "name": "python3"
  },
  "language_info": {
   "codemirror_mode": {
    "name": "ipython",
    "version": 3
   },
   "file_extension": ".py",
   "mimetype": "text/x-python",
   "name": "python",
   "nbconvert_exporter": "python",
   "pygments_lexer": "ipython3",
   "version": "3.13.5"
  },
  "toc": {
   "base_numbering": 1,
   "nav_menu": {},
   "number_sections": true,
   "sideBar": true,
   "skip_h1_title": false,
   "title_cell": "Table of Contents",
   "title_sidebar": "Contents",
   "toc_cell": false,
   "toc_position": {},
   "toc_section_display": true,
   "toc_window_display": false
  }
 },
 "nbformat": 4,
 "nbformat_minor": 5
}
