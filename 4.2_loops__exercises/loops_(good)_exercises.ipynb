{
 "cells": [
  {
   "attachments": {},
   "cell_type": "markdown",
   "id": "123456",
   "metadata": {},
   "source": [
    "<div style=\"text-align:left;font-size:2em\"><span style=\"font-weight:bolder;font-size:1.25em\">SP2273 | Learning Portfolio</span><br><br><span style=\"font-weight:bold;color:darkred\">Loops (Good) Exercises</span></div>"
   ]
  },
  {
   "cell_type": "markdown",
   "id": "3831363d",
   "metadata": {},
   "source": [
    "#### Exercise 1"
   ]
  },
  {
   "cell_type": "code",
   "execution_count": 2,
   "id": "70c4d363",
   "metadata": {},
   "outputs": [
    {
     "name": "stdout",
     "output_type": "stream",
     "text": [
      "True\n",
      "False\n",
      "True\n",
      "False\n",
      "True\n",
      "False\n",
      "True\n",
      "False\n",
      "True\n",
      "False\n"
     ]
    }
   ],
   "source": [
    "for i in range(10):\n",
    "    print(i % 2 == 0)"
   ]
  },
  {
   "cell_type": "code",
   "execution_count": null,
   "id": "1f2475ba",
   "metadata": {},
   "outputs": [
    {
     "name": "stdout",
     "output_type": "stream",
     "text": [
      "[1, 9, 25, 49, 81]\n"
     ]
    }
   ],
   "source": [
    "list = []\n",
    "for i in range(1,11):\n",
    "    if i % 2 == 0:\n",
    "        continue # to the next element in the range\n",
    "    list.append(i**2)\n",
    "print(list)"
   ]
  },
  {
   "cell_type": "code",
   "execution_count": null,
   "id": "007d98e2",
   "metadata": {},
   "outputs": [
    {
     "data": {
      "text/plain": [
       "[1]"
      ]
     },
     "execution_count": 9,
     "metadata": {},
     "output_type": "execute_result"
    }
   ],
   "source": [
    "list = [] + [1] # adds values to empty list\n",
    "list"
   ]
  },
  {
   "cell_type": "markdown",
   "id": "83425667",
   "metadata": {},
   "source": [
    "#### Exercise 2"
   ]
  },
  {
   "cell_type": "code",
   "execution_count": null,
   "id": "32afbd85",
   "metadata": {},
   "outputs": [
    {
     "data": {
      "text/plain": [
       "[1, 9, 25, 49, 81]"
      ]
     },
     "execution_count": 32,
     "metadata": {},
     "output_type": "execute_result"
    }
   ],
   "source": [
    "[number**2 for number in range(1,11) if number % 2 != 0]\n",
    "## output is the first variable in this list\n",
    "## conditions added at the end of syn†ax\n",
    "## not equals to in Python is !="
   ]
  },
  {
   "cell_type": "markdown",
   "id": "c340d608",
   "metadata": {},
   "source": [
    "#### Exercise 3"
   ]
  },
  {
   "cell_type": "code",
   "execution_count": null,
   "id": "d8114836",
   "metadata": {},
   "outputs": [
    {
     "name": "stdout",
     "output_type": "stream",
     "text": [
      "757 ns ± 23.6 ns per loop (mean ± std. dev. of 7 runs, 1,000,000 loops each)\n"
     ]
    }
   ],
   "source": [
    "%%timeit\n",
    "list = []\n",
    "for i in range(1,11):\n",
    "    if i % 2 == 0:\n",
    "        continue # to the next element in the range, can use \"break\" too\n",
    "    list.append(i**2)\n",
    "## why is it endlessly running... do I just leave it...?\n",
    "#### it runs endlessly when you ask it to print (list) at the end..."
   ]
  },
  {
   "cell_type": "code",
   "execution_count": 34,
   "id": "ed6150f7",
   "metadata": {},
   "outputs": [
    {
     "name": "stdout",
     "output_type": "stream",
     "text": [
      "799 ns ± 27.8 ns per loop (mean ± std. dev. of 7 runs, 1,000,000 loops each)\n"
     ]
    }
   ],
   "source": [
    "%%timeit\n",
    "[number**2 for number in range(1,11) if number % 2 != 0]"
   ]
  },
  {
   "cell_type": "markdown",
   "id": "31b53405",
   "metadata": {},
   "source": [
    "Which one is faster? \n",
    "\n",
    "Answer: The for loop with range and continue functions is slightly faster\n"
   ]
  },
  {
   "cell_type": "markdown",
   "id": "75ef6574",
   "metadata": {},
   "source": [
    "#### Exercise 4"
   ]
  },
  {
   "cell_type": "code",
   "execution_count": null,
   "id": "f82dd454",
   "metadata": {},
   "outputs": [],
   "source": [
    "## \"while loop\" keeps running while a condition is true!\n",
    "## if condition is unmet, loop will stop running (truncate?)"
   ]
  },
  {
   "cell_type": "code",
   "execution_count": 4,
   "id": "288d1b0c",
   "metadata": {},
   "outputs": [
    {
     "data": {
      "text/plain": [
       "True"
      ]
     },
     "execution_count": 4,
     "metadata": {},
     "output_type": "execute_result"
    }
   ],
   "source": [
    "quantity = 100\n",
    "quantity>=50\n"
   ]
  },
  {
   "cell_type": "code",
   "execution_count": null,
   "id": "7a48f818",
   "metadata": {},
   "outputs": [
    {
     "name": "stdout",
     "output_type": "stream",
     "text": [
      "[1, 2, 3, 4, 5, 6, 7, 8, 9, 10, 11, 12, 13, 14, 15, 16, 17, 18, 19, 20, 21, 22, 23, 24, 25, 26, 27, 28, 29, 30, 31, 32, 33, 34, 35, 36, 37, 38, 39, 40, 41, 42, 43, 44, 45, 46, 47, 48, 49, 50, 51, 52, 53, 54, 55, 56, 57, 58, 59, 60, 61, 62, 63, 64, 65, 66, 67, 68, 69, 70, 71, 72, 73, 74, 75, 76, 77, 78, 79, 80, 81, 82, 83, 84, 85, 86, 87, 88, 89, 90, 91, 92, 93, 94, 95, 96, 97, 98, 99, 100]\n"
     ]
    }
   ],
   "source": [
    "list_100 = []\n",
    "for i in range(1,101):\n",
    "    list_100.append(i)\n",
    "print(list_100)\n",
    "## I just realised the list will only give me individual whole numbers\n",
    "## I dont think this will be useful to me..."
   ]
  },
  {
   "cell_type": "code",
   "execution_count": 4,
   "id": "c80f0544",
   "metadata": {},
   "outputs": [
    {
     "name": "stdout",
     "output_type": "stream",
     "text": [
      "14, 48.76749791155295\n"
     ]
    }
   ],
   "source": [
    "quantity = 100\n",
    "count = 0\n",
    "while quantity >= 50:\n",
    "        count += 1\n",
    "        quantity = quantity*(95/100)\n",
    "print(f'{count}, {new_quantity}')"
   ]
  },
  {
   "cell_type": "markdown",
   "id": "fec8ee17",
   "metadata": {},
   "source": [
    "It takes 13 years for the radioactive substance to be reduced to almost half its original amount, and 14 years for it to fall below half its original amount for the first time."
   ]
  },
  {
   "cell_type": "markdown",
   "id": "e151785c",
   "metadata": {},
   "source": [
    "#### Exercise 5"
   ]
  },
  {
   "cell_type": "code",
   "execution_count": 3,
   "id": "cc191edc",
   "metadata": {},
   "outputs": [],
   "source": [
    "import numpy as np"
   ]
  },
  {
   "cell_type": "code",
   "execution_count": 4,
   "id": "62d97775",
   "metadata": {},
   "outputs": [
    {
     "name": "stdout",
     "output_type": "stream",
     "text": [
      "[[2000.    369.55]\n",
      " [2001.    371.14]\n",
      " [2002.    373.28]\n",
      " [2003.    375.8 ]\n",
      " [2004.    377.52]\n",
      " [2005.    379.8 ]\n",
      " [2006.    381.9 ]\n",
      " [2007.    383.79]\n",
      " [2008.    385.6 ]\n",
      " [2009.    387.43]\n",
      " [2010.    389.9 ]\n",
      " [2011.    391.65]\n",
      " [2012.    393.85]\n",
      " [2013.    396.52]\n",
      " [2014.    398.65]\n",
      " [2015.    400.83]\n",
      " [2016.    404.24]\n",
      " [2017.    406.55]\n",
      " [2018.    408.52]\n",
      " [2019.    411.44]\n",
      " [2020.    414.24]]\n"
     ]
    }
   ],
   "source": [
    "co2_data = [\n",
    "    (2000, 369.55), (2001, 371.14), (2002, 373.28), \n",
    "    (2003, 375.80), (2004, 377.52), (2005, 379.80), \n",
    "    (2006, 381.90), (2007, 383.79), (2008, 385.60), \n",
    "    (2009, 387.43), (2010, 389.90), (2011, 391.65), \n",
    "    (2012, 393.85), (2013, 396.52), (2014, 398.65),\n",
    "    (2015, 400.83), (2016, 404.24), (2017, 406.55), \n",
    "    (2018, 408.52), (2019, 411.44), (2020, 414.24)\n",
    "]\n",
    "co2_array = np.array(co2_data)\n",
    "print(co2_array) \n",
    "## yay it makes the data into 2 columns!"
   ]
  },
  {
   "cell_type": "code",
   "execution_count": 5,
   "id": "43d2b94d",
   "metadata": {},
   "outputs": [
    {
     "data": {
      "text/plain": [
       "np.float64(369.55)"
      ]
     },
     "execution_count": 5,
     "metadata": {},
     "output_type": "execute_result"
    }
   ],
   "source": [
    "co2_array[1] # gives row 2\n",
    "co2_array[0,1] # gives second data in row 1\n",
    "## How do I refer to specific data in each column of data in a for loop?"
   ]
  },
  {
   "cell_type": "code",
   "execution_count": 6,
   "id": "57ab4da1",
   "metadata": {},
   "outputs": [
    {
     "name": "stdout",
     "output_type": "stream",
     "text": [
      "2000.0, 369.55\n",
      "2001.0, 371.14\n",
      "2002.0, 373.28\n",
      "2003.0, 375.8\n",
      "2004.0, 377.52\n",
      "2005.0, 379.8\n",
      "2006.0, 381.9\n",
      "2007.0, 383.79\n",
      "2008.0, 385.6\n",
      "2009.0, 387.43\n",
      "2010.0, 389.9\n",
      "2011.0, 391.65\n",
      "2012.0, 393.85\n",
      "2013.0, 396.52\n",
      "2014.0, 398.65\n",
      "2015.0, 400.83\n",
      "2016.0, 404.24\n",
      "2017.0, 406.55\n",
      "2018.0, 408.52\n",
      "2019.0, 411.44\n",
      "2020.0, 414.24\n"
     ]
    }
   ],
   "source": [
    "for year, co2 in co2_array:\n",
    "    print(f'{year}, {co2}') \n",
    "# OH this allows access to each column of data \n",
    "# (instead of line number, first variable indexes the first column of data?)"
   ]
  },
  {
   "cell_type": "code",
   "execution_count": null,
   "id": "45a6ddf6",
   "metadata": {},
   "outputs": [],
   "source": [
    "for year, co2 in co2_array:\n",
    "    variable = co2 - co2_array[year-1, 1] ## dun work coz of \"year\" \n",
    "    if year - 1 == 0:\n",
    "        continue ## lines 2 & 3 to account for the first row of data\n",
    "    if variable == 3:\n",
    "        print(year)\n",
    "### need to come up with a way to make an index or some way to count\n",
    "### to access my co2 elements."
   ]
  },
  {
   "cell_type": "code",
   "execution_count": null,
   "id": "7283860d",
   "metadata": {},
   "outputs": [
    {
     "ename": "IndexError",
     "evalue": "index 21 is out of bounds for axis 0 with size 21",
     "output_type": "error",
     "traceback": [
      "\u001b[31m---------------------------------------------------------------------------\u001b[39m",
      "\u001b[31mIndexError\u001b[39m                                Traceback (most recent call last)",
      "\u001b[36mCell\u001b[39m\u001b[36m \u001b[39m\u001b[32mIn[29]\u001b[39m\u001b[32m, line 3\u001b[39m\n\u001b[32m      1\u001b[39m count = \u001b[32m1\u001b[39m\n\u001b[32m      2\u001b[39m \u001b[38;5;28;01mfor\u001b[39;00m year, co2 \u001b[38;5;129;01min\u001b[39;00m co2_array:\n\u001b[32m----> \u001b[39m\u001b[32m3\u001b[39m     variable = co2 - \u001b[43mco2_array\u001b[49m\u001b[43m[\u001b[49m\u001b[43mcount\u001b[49m\u001b[43m,\u001b[49m\u001b[43m \u001b[49m\u001b[32;43m1\u001b[39;49m\u001b[43m]\u001b[49m\n\u001b[32m      4\u001b[39m     count += \u001b[32m1\u001b[39m\n\u001b[32m      5\u001b[39m     \u001b[38;5;28;01mif\u001b[39;00m count == \u001b[32m20\u001b[39m:\n",
      "\u001b[31mIndexError\u001b[39m: index 21 is out of bounds for axis 0 with size 21"
     ]
    }
   ],
   "source": [
    "count = 1\n",
    "for year, co2 in co2_array:\n",
    "    variable = co2 - co2_array[count, 1]\n",
    "    count += 1\n",
    "    if count == 20:\n",
    "            continue\n",
    "    if variable == 3:\n",
    "        print(year)\n",
    "#! error because \"continue\" asks to access next element"
   ]
  },
  {
   "cell_type": "code",
   "execution_count": 65,
   "id": "1f9067fd",
   "metadata": {},
   "outputs": [
    {
     "name": "stdout",
     "output_type": "stream",
     "text": [
      "2015.0\n"
     ]
    }
   ],
   "source": [
    "count = 0\n",
    "for year, co2 in co2_array:\n",
    "    count += 1\n",
    "    variable = co2_array[count, 1] - co2_array[count-1, 1]\n",
    "    if variable >= 3:\n",
    "        print(year)\n",
    "    if count >= 20:\n",
    "        break"
   ]
  },
  {
   "cell_type": "markdown",
   "id": "eeaf552e",
   "metadata": {},
   "source": [
    "Hence, an increase in CO2 of 3 ppm or more compared to the previous year was only observed in 2015."
   ]
  },
  {
   "cell_type": "markdown",
   "id": "69f87246",
   "metadata": {},
   "source": [
    "##### Below are alternative methods i was trying out but failed to figure out..."
   ]
  },
  {
   "cell_type": "code",
   "execution_count": null,
   "id": "b3686470",
   "metadata": {},
   "outputs": [
    {
     "name": "stdout",
     "output_type": "stream",
     "text": [
      "0, [2000.    369.55]\n",
      "1, [2001.    371.14]\n",
      "2, [2002.    373.28]\n",
      "3, [2003.   375.8]\n",
      "4, [2004.    377.52]\n",
      "5, [2005.   379.8]\n",
      "6, [2006.   381.9]\n",
      "7, [2007.    383.79]\n",
      "8, [2008.   385.6]\n",
      "9, [2009.    387.43]\n",
      "10, [2010.   389.9]\n",
      "11, [2011.    391.65]\n",
      "12, [2012.    393.85]\n",
      "13, [2013.    396.52]\n",
      "14, [2014.    398.65]\n",
      "15, [2015.    400.83]\n",
      "16, [2016.    404.24]\n",
      "17, [2017.    406.55]\n",
      "18, [2018.    408.52]\n",
      "19, [2019.    411.44]\n",
      "20, [2020.    414.24]\n"
     ]
    }
   ],
   "source": [
    "for index, data in enumerate(co2_array):\n",
    "    print(f'{index}, {data}')\n",
    "# enumerate gives first variable as index, and groups data columns\n",
    "# under the second variable"
   ]
  },
  {
   "cell_type": "code",
   "execution_count": null,
   "id": "34b64d52",
   "metadata": {},
   "outputs": [
    {
     "ename": "AttributeError",
     "evalue": "'numpy.ndarray' object has no attribute 'split'",
     "output_type": "error",
     "traceback": [
      "\u001b[31m---------------------------------------------------------------------------\u001b[39m",
      "\u001b[31mAttributeError\u001b[39m                            Traceback (most recent call last)",
      "\u001b[36mCell\u001b[39m\u001b[36m \u001b[39m\u001b[32mIn[16]\u001b[39m\u001b[32m, line 2\u001b[39m\n\u001b[32m      1\u001b[39m \u001b[38;5;28;01mfor\u001b[39;00m index, data \u001b[38;5;129;01min\u001b[39;00m \u001b[38;5;28menumerate\u001b[39m(co2_array):\n\u001b[32m----> \u001b[39m\u001b[32m2\u001b[39m     year, co2 = \u001b[43mdata\u001b[49m\u001b[43m.\u001b[49m\u001b[43msplit\u001b[49m()\n\u001b[32m      3\u001b[39m     \u001b[38;5;28mprint\u001b[39m({year}, {co2})\n\u001b[32m      4\u001b[39m     difference = co2 - co2_array[index, \u001b[32m1\u001b[39m]\n",
      "\u001b[31mAttributeError\u001b[39m: 'numpy.ndarray' object has no attribute 'split'"
     ]
    }
   ],
   "source": [
    "for index, data in enumerate(co2_array):\n",
    "    year, co2 = data.split() #! cannot use split bcoz \"data\" is not str\n",
    "    print({year}, {co2})\n",
    "    difference = co2 - co2_array[index, 1]\n",
    "    if index == 0:\n",
    "        continue\n",
    "    if difference == 3:\n",
    "        print(year)"
   ]
  },
  {
   "cell_type": "code",
   "execution_count": null,
   "id": "15e82f36",
   "metadata": {},
   "outputs": [
    {
     "ename": "TypeError",
     "evalue": "unhashable type: 'numpy.ndarray'",
     "output_type": "error",
     "traceback": [
      "\u001b[31m---------------------------------------------------------------------------\u001b[39m",
      "\u001b[31mTypeError\u001b[39m                                 Traceback (most recent call last)",
      "\u001b[36mCell\u001b[39m\u001b[36m \u001b[39m\u001b[32mIn[18]\u001b[39m\u001b[32m, line 3\u001b[39m\n\u001b[32m      1\u001b[39m \u001b[38;5;28;01mfor\u001b[39;00m index, data \u001b[38;5;129;01min\u001b[39;00m \u001b[38;5;28menumerate\u001b[39m(co2_array):\n\u001b[32m      2\u001b[39m     year, co2 = np.split(data, \u001b[32m2\u001b[39m) \u001b[38;5;66;03m# use np's split function instead\u001b[39;00m\n\u001b[32m----> \u001b[39m\u001b[32m3\u001b[39m     \u001b[38;5;28mprint\u001b[39m({year}, {co2})\n\u001b[32m      4\u001b[39m     difference = co2 - co2_array[index, \u001b[32m1\u001b[39m]\n\u001b[32m      5\u001b[39m     \u001b[38;5;28;01mif\u001b[39;00m index == \u001b[32m0\u001b[39m:\n",
      "\u001b[31mTypeError\u001b[39m: unhashable type: 'numpy.ndarray'"
     ]
    }
   ],
   "source": [
    "for index, data in enumerate(co2_array):\n",
    "    year, co2 = np.split(data,2) # use np's split function instead? How?\n",
    "    print({year}, {co2})\n",
    "    difference = co2 - co2_array[index, 1]\n",
    "    if index == 0:\n",
    "        continue\n",
    "    if difference == 3:\n",
    "        print(year)"
   ]
  },
  {
   "cell_type": "code",
   "execution_count": 20,
   "id": "33f0bbee",
   "metadata": {},
   "outputs": [
    {
     "ename": "TypeError",
     "evalue": "array_split() missing 1 required positional argument: 'indices_or_sections'",
     "output_type": "error",
     "traceback": [
      "\u001b[31m---------------------------------------------------------------------------\u001b[39m",
      "\u001b[31mTypeError\u001b[39m                                 Traceback (most recent call last)",
      "\u001b[36mCell\u001b[39m\u001b[36m \u001b[39m\u001b[32mIn[20]\u001b[39m\u001b[32m, line 2\u001b[39m\n\u001b[32m      1\u001b[39m \u001b[38;5;28;01mfor\u001b[39;00m index, data \u001b[38;5;129;01min\u001b[39;00m \u001b[38;5;28menumerate\u001b[39m(co2_array):\n\u001b[32m----> \u001b[39m\u001b[32m2\u001b[39m     new_arrs = \u001b[43mnp\u001b[49m\u001b[43m.\u001b[49m\u001b[43marray_split\u001b[49m\u001b[43m(\u001b[49m\u001b[43mdata\u001b[49m\u001b[43m)\u001b[49m\n",
      "\u001b[31mTypeError\u001b[39m: array_split() missing 1 required positional argument: 'indices_or_sections'"
     ]
    }
   ],
   "source": [
    "for index, data in enumerate(co2_array):\n",
    "    new_arrs = np.array_split(data)"
   ]
  }
 ],
 "metadata": {
  "kernelspec": {
   "display_name": "base",
   "language": "python",
   "name": "python3"
  },
  "language_info": {
   "codemirror_mode": {
    "name": "ipython",
    "version": 3
   },
   "file_extension": ".py",
   "mimetype": "text/x-python",
   "name": "python",
   "nbconvert_exporter": "python",
   "pygments_lexer": "ipython3",
   "version": "3.13.5"
  },
  "toc": {
   "base_numbering": 1,
   "nav_menu": {},
   "number_sections": true,
   "sideBar": true,
   "skip_h1_title": false,
   "title_cell": "Table of Contents",
   "title_sidebar": "Contents",
   "toc_cell": false,
   "toc_position": {},
   "toc_section_display": true,
   "toc_window_display": false
  }
 },
 "nbformat": 4,
 "nbformat_minor": 5
}
