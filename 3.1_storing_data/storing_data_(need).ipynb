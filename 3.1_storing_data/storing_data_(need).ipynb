{
 "cells": [
  {
   "attachments": {},
   "cell_type": "markdown",
   "id": "123456",
   "metadata": {},
   "source": [
    "<div style=\"text-align:left;font-size:2em\"><span style=\"font-weight:bolder;font-size:1.25em\">SP2273 | Learning Portfolio</span><br><br><span style=\"font-weight:bold;color:darkred\">Storing Data (Need)</span></div>"
   ]
  },
  {
   "attachments": {},
   "cell_type": "markdown",
   "id": "123456",
   "metadata": {},
   "source": [
    "# What to expect in this chapter"
   ]
  },
  {
   "attachments": {},
   "cell_type": "markdown",
   "id": "123456",
   "metadata": {},
   "source": [
    "# 1 Lists, Arrays & Dictionaries"
   ]
  },
  {
   "attachments": {},
   "cell_type": "markdown",
   "id": "123456",
   "metadata": {},
   "source": [
    "## 1.1 Let’s compare"
   ]
  },
  {
   "cell_type": "markdown",
   "id": "ff68d841",
   "metadata": {},
   "source": [
    "#### Python Lists"
   ]
  },
  {
   "cell_type": "code",
   "execution_count": 8,
   "id": "06eb7e1c",
   "metadata": {},
   "outputs": [],
   "source": [
    "# start with a list name that is not \"list\" (in blue)\n",
    "py_super_names = [\"black widow\", \"iron man\", \"spiderman\"]\n",
    "py_real_names = [\"Natasha Romanoff\", \"Tony Stark\", \"Peter Parker\"]"
   ]
  },
  {
   "cell_type": "markdown",
   "id": "81bb18cd",
   "metadata": {},
   "source": [
    "#### Numpy Arrays"
   ]
  },
  {
   "cell_type": "code",
   "execution_count": null,
   "id": "07462190",
   "metadata": {},
   "outputs": [],
   "source": [
    "### Notes\n",
    "# (stored very differently from python lists)\n",
    "# 1. Only likes to store one type of data (eg. strings vs numbers), so it will convert all data into one form.\n",
    "# 2. If you convert a Python list that consists of numbers and words \n",
    "# into a Numpy array, the array will convert all data \n",
    "# into the most general form; words.\n",
    "# Numpy arrays must be in a fixed \"shape\" (needs consistent shape);\n",
    "# because numpy is built for very fast maths calculations.\n",
    "# NumPy Array elements are always enclosed by ([]) \n",
    "# where () is for the NumPy function, and [] for the list of data inside"
   ]
  },
  {
   "cell_type": "code",
   "execution_count": 42,
   "id": "5356f20d",
   "metadata": {},
   "outputs": [],
   "source": [
    "import numpy as np\n",
    "# () brackets are used for functions, [] are then used to enclose lists\n",
    "np_super_names = np.array([\"black widow\", \"iron man\", \"spiderman\"]) \n",
    "np_real_names = np.array([\"Natasha Romanoff\", \"Tony Stark\", \"Peter Parker\"])"
   ]
  },
  {
   "cell_type": "code",
   "execution_count": null,
   "id": "4ef18c56",
   "metadata": {},
   "outputs": [],
   "source": [
    "# Converting list into array\n",
    "np_array = np.array(py_real_names)\n",
    "# Use the \"np.array()\" function and place the list to be converted inside"
   ]
  },
  {
   "cell_type": "markdown",
   "id": "ca10bccd",
   "metadata": {},
   "source": [
    "## 1.2 Accessing data from a list (or array)"
   ]
  },
  {
   "cell_type": "code",
   "execution_count": null,
   "id": "56f1d9f6",
   "metadata": {},
   "outputs": [
    {
     "data": {
      "text/plain": [
       "'black widow'"
      ]
     },
     "execution_count": 11,
     "metadata": {},
     "output_type": "execute_result"
    }
   ],
   "source": [
    "py_super_names[0]\n",
    "# An index is the numerical position of an element in a data storage\n",
    "# Python is a \"zero-indexed\" language; indexes in lists are numbered\n",
    "# starting from 0.\n",
    "# Using a [] allows you to access information/ data in a list."
   ]
  },
  {
   "cell_type": "code",
   "execution_count": 14,
   "id": "793fd365",
   "metadata": {},
   "outputs": [
    {
     "data": {
      "text/plain": [
       "'spiderman'"
      ]
     },
     "execution_count": 14,
     "metadata": {},
     "output_type": "execute_result"
    }
   ],
   "source": [
    "py_super_names[2]"
   ]
  },
  {
   "cell_type": "code",
   "execution_count": null,
   "id": "e577c6bc",
   "metadata": {},
   "outputs": [
    {
     "data": {
      "text/plain": [
       "'spiderman'"
      ]
     },
     "execution_count": 16,
     "metadata": {},
     "output_type": "execute_result"
    }
   ],
   "source": [
    "py_super_names[-1]\n",
    "# using negative indexes allows us to count from the back of the list\n",
    "# In this 3-item list, both \"-1\" and \"2\" refer to the list's last item  "
   ]
  },
  {
   "cell_type": "code",
   "execution_count": null,
   "id": "d44d9584",
   "metadata": {},
   "outputs": [],
   "source": [
    "# the same can be applied to accessing data from arrays\n"
   ]
  },
  {
   "cell_type": "markdown",
   "id": "6fd9627b",
   "metadata": {},
   "source": [
    "#### Dictionary"
   ]
  },
  {
   "cell_type": "code",
   "execution_count": null,
   "id": "a2d69cc2",
   "metadata": {},
   "outputs": [],
   "source": [
    "superhero_info = { # dictionaries use curly brackets!\n",
    "    \"Natasha Romanoff\": \"black widow\", #note the use of commas, indents and colons\n",
    "    \"Tony Stark\": \"iron man\",\n",
    "    \"Peter Parker\": \"spiderman\"\n",
    " }"
   ]
  },
  {
   "cell_type": "markdown",
   "id": "46ec45b8",
   "metadata": {},
   "source": [
    "## 1.3 Accessing data from a dictionary"
   ]
  },
  {
   "cell_type": "code",
   "execution_count": 5,
   "id": "b6bc4a16",
   "metadata": {},
   "outputs": [
    {
     "data": {
      "text/plain": [
       "'black widow'"
      ]
     },
     "execution_count": 5,
     "metadata": {},
     "output_type": "execute_result"
    }
   ],
   "source": [
    "superhero_info[\"Natasha Romanoff\"] \n",
    "# doing this will print the linked info to the bracketed string of text"
   ]
  },
  {
   "cell_type": "markdown",
   "id": "afac04da",
   "metadata": {},
   "source": [
    "- Dictionaries use a key and an associated value separated by a colon \n",
    "    - In the above scenario, \"Natasha Romanoff\" is the key and \"black widow\" is its associated text.\n",
    "- For lists and arrays, each set of strings (superhero names & real names) must be in the same position in order for it to be used like a dictionary."
   ]
  },
  {
   "attachments": {},
   "cell_type": "markdown",
   "id": "123456",
   "metadata": {},
   "source": [
    "## 1.4 Higher dimensional lists"
   ]
  },
  {
   "cell_type": "code",
   "execution_count": null,
   "id": "a06cd03a",
   "metadata": {},
   "outputs": [],
   "source": [
    "# How to have linked data without making 2 separate lists or arrays?\n",
    "py_superhero_info = [['Natasha Romanoff', 'Black Widow'],\n",
    "                     ['Tony Stark', 'Iron Man'],\n",
    "                     ['Stephen Strange', 'Doctor Strange']]\n",
    "# Can I say that there are technically 3 lists in this one list since\n",
    "# there are 3 groups of data enclosed in [] ?"
   ]
  },
  {
   "attachments": {},
   "cell_type": "markdown",
   "id": "123456",
   "metadata": {},
   "source": [
    "# 2 Lists vs. Arrays"
   ]
  },
  {
   "cell_type": "code",
   "execution_count": 18,
   "id": "d27bf582",
   "metadata": {},
   "outputs": [],
   "source": [
    "# Preparing your lists and arrays\n",
    "py_list_numbers = [1, 2, 3, 4, 5]\n",
    "np_numbers = np.array(py_list_numbers) # converts python list into an np array"
   ]
  },
  {
   "cell_type": "markdown",
   "id": "ca711fdb",
   "metadata": {},
   "source": [
    "Lists"
   ]
  },
  {
   "cell_type": "markdown",
   "id": "41b07c9b",
   "metadata": {},
   "source": [
    "Arrays"
   ]
  },
  {
   "cell_type": "code",
   "execution_count": 13,
   "id": "13757e04",
   "metadata": {},
   "outputs": [
    {
     "data": {
      "text/plain": [
       "array([4, 5])"
      ]
     },
     "execution_count": 13,
     "metadata": {},
     "output_type": "execute_result"
    }
   ],
   "source": [
    "mask = np_numbers > 3\n",
    "np_numbers[mask]"
   ]
  },
  {
   "attachments": {},
   "cell_type": "markdown",
   "id": "123456",
   "metadata": {},
   "source": [
    "## 2.1 Size"
   ]
  },
  {
   "cell_type": "code",
   "execution_count": 21,
   "id": "76bd5601",
   "metadata": {},
   "outputs": [],
   "source": [
    "py_list_2d = [[1, \"A\"], [2, \"B\"], [3, \"C\"], [4, \"D\"],\n",
    "              [5, \"E\"], [6, \"F\"], [7, \"G\"], [8, \"H\"],\n",
    "              [9, \"I\"], [10, \"J\"]]\n",
    "\n",
    "np_array_2d = np.array(py_list_2d)      # Reusing the Python list \n",
    "                                        # to create a NEW\n",
    "                                        # NumPy array"
   ]
  },
  {
   "cell_type": "code",
   "execution_count": 24,
   "id": "b63ac160",
   "metadata": {},
   "outputs": [
    {
     "data": {
      "text/plain": [
       "10"
      ]
     },
     "execution_count": 24,
     "metadata": {},
     "output_type": "execute_result"
    }
   ],
   "source": [
    "# use len() function to calculate the number of elements in a list/array\n",
    "len(py_list_2d)"
   ]
  },
  {
   "cell_type": "code",
   "execution_count": null,
   "id": "0b8e6dfe",
   "metadata": {},
   "outputs": [
    {
     "data": {
      "text/plain": [
       "(10, 2)"
      ]
     },
     "execution_count": 23,
     "metadata": {},
     "output_type": "execute_result"
    }
   ],
   "source": [
    "np_array_2d.shape\n",
    "# '.' indicates ownership. In this case, shape is not a function.\n",
    "# Instead, it is a property or attribute of the numpy array above.\n",
    "# \"shape\" shows the number of columns & rows of elements in a list/array"
   ]
  },
  {
   "attachments": {},
   "cell_type": "markdown",
   "id": "123456",
   "metadata": {},
   "source": [
    "## 2.2 Arrays are fussy about type"
   ]
  },
  {
   "cell_type": "markdown",
   "id": "14e252f3",
   "metadata": {},
   "source": [
    "- Arrays can only contain elements/ data in the same format.\n",
    "\n",
    "- If you convert a Python list with containing both floats/integers (numbers) and strings into an NumPy array, the resultant array will convert the element formats into the most generalised form; all elements will be strings.\n"
   ]
  },
  {
   "attachments": {},
   "cell_type": "markdown",
   "id": "123456",
   "metadata": {},
   "source": [
    "## 2.3 Adding a number"
   ]
  },
  {
   "cell_type": "code",
   "execution_count": 19,
   "id": "d8c0ebd5",
   "metadata": {},
   "outputs": [
    {
     "data": {
      "text/plain": [
       "[1, 2, 3, 4, 5, 100]"
      ]
     },
     "execution_count": 19,
     "metadata": {},
     "output_type": "execute_result"
    }
   ],
   "source": [
    "py_list_numbers + [100] # to add a value into a python list"
   ]
  },
  {
   "attachments": {},
   "cell_type": "markdown",
   "id": "123456",
   "metadata": {},
   "source": [
    "## 2.4 Adding another list"
   ]
  },
  {
   "cell_type": "code",
   "execution_count": 31,
   "id": "6cf5d598",
   "metadata": {},
   "outputs": [],
   "source": [
    "# Let \n",
    "py_list_1 = [2, 4, 6, 8, 10]\n",
    "py_list_2 = [3, 6, 9, 12, 15]"
   ]
  },
  {
   "cell_type": "code",
   "execution_count": null,
   "id": "2c64dc3c",
   "metadata": {},
   "outputs": [
    {
     "data": {
      "text/plain": [
       "[2, 4, 6, 8, 10, 3, 6, 9, 12, 15]"
      ]
     },
     "execution_count": 32,
     "metadata": {},
     "output_type": "execute_result"
    }
   ],
   "source": [
    "# To make a new list that is a combination of the 2 above:\n",
    "py_list_1 + py_list_2 # note that the order of the lists matters."
   ]
  },
  {
   "attachments": {},
   "cell_type": "markdown",
   "id": "123456",
   "metadata": {},
   "source": [
    "## 2.5 Multiplying by a Number"
   ]
  },
  {
   "cell_type": "code",
   "execution_count": null,
   "id": "f117204c",
   "metadata": {},
   "outputs": [
    {
     "data": {
      "text/plain": [
       "[3, 6, 9, 12, 15, 3, 6, 9, 12, 15]"
      ]
     },
     "execution_count": 33,
     "metadata": {},
     "output_type": "execute_result"
    }
   ],
   "source": [
    "# For Python Lists\n",
    "py_list_2*2 # doubles/ duplicates the set of data in the same order"
   ]
  },
  {
   "cell_type": "code",
   "execution_count": null,
   "id": "a3b639ef",
   "metadata": {},
   "outputs": [
    {
     "data": {
      "text/plain": [
       "array([ 2,  4,  6,  8, 10])"
      ]
     },
     "execution_count": 35,
     "metadata": {},
     "output_type": "execute_result"
    }
   ],
   "source": [
    "# For NumPy Arrays\n",
    "np_numbers*2 # each element in the data set is doubled/ multipled"
   ]
  },
  {
   "attachments": {},
   "cell_type": "markdown",
   "id": "123456",
   "metadata": {},
   "source": [
    "## 2.6 Squaring"
   ]
  },
  {
   "cell_type": "code",
   "execution_count": null,
   "id": "857f1cee",
   "metadata": {},
   "outputs": [
    {
     "data": {
      "text/plain": [
       "array([ 1,  4,  9, 16, 25])"
      ]
     },
     "execution_count": 36,
     "metadata": {},
     "output_type": "execute_result"
    }
   ],
   "source": [
    "# Python Lists cannot be squared\n",
    "# NumPy Arrays can be squared\n",
    "np_numbers**2 # Each element in the array will be squared"
   ]
  },
  {
   "attachments": {},
   "cell_type": "markdown",
   "id": "123456",
   "metadata": {},
   "source": [
    "## 2.7 Asking questions"
   ]
  },
  {
   "cell_type": "code",
   "execution_count": null,
   "id": "cb61b8a1",
   "metadata": {},
   "outputs": [
    {
     "data": {
      "text/plain": [
       "array([False, False,  True, False, False])"
      ]
     },
     "execution_count": 37,
     "metadata": {},
     "output_type": "execute_result"
    }
   ],
   "source": [
    "# Below, asking Python kernel which elements are equals to 3 in the array\n",
    "np_numbers == 3"
   ]
  },
  {
   "cell_type": "code",
   "execution_count": null,
   "id": "bfa3b93c",
   "metadata": {},
   "outputs": [
    {
     "data": {
      "text/plain": [
       "False"
      ]
     },
     "execution_count": 39,
     "metadata": {},
     "output_type": "execute_result"
    }
   ],
   "source": [
    "py_list_numbers = [1, 2, 3, 4, 5]\n",
    "py_list_numbers == 3 ## does not work the way it does for arrays"
   ]
  },
  {
   "cell_type": "code",
   "execution_count": null,
   "id": "eb8e6480",
   "metadata": {},
   "outputs": [
    {
     "data": {
      "text/plain": [
       "False"
      ]
     },
     "execution_count": 40,
     "metadata": {},
     "output_type": "execute_result"
    }
   ],
   "source": [
    "py_element = [3]\n",
    "py_element == 3 # still does not work"
   ]
  },
  {
   "attachments": {},
   "cell_type": "markdown",
   "id": "123456",
   "metadata": {},
   "source": [
    "## 2.8 Mathematics"
   ]
  },
  {
   "cell_type": "markdown",
   "id": "cea2a65d",
   "metadata": {},
   "source": [
    "**Mathematic Functions**\n",
    "\n",
    "sum(py_list)     # sum() is a base Python function\n",
    "\n",
    "max(py_list)     # max() is a base Python function\n",
    "\n",
    "min(py_list)     # min() is a base Python function\n",
    "\n",
    "np_array.sum()\n",
    "\n",
    "np_array.max()\n",
    "\n",
    "np_array.min()\n",
    "\n",
    "np_array.mean()\n",
    "\n",
    "np_array.std()"
   ]
  },
  {
   "cell_type": "code",
   "execution_count": 15,
   "id": "60893502",
   "metadata": {},
   "outputs": [
    {
     "name": "stdout",
     "output_type": "stream",
     "text": [
      "[1, 2, 3, 4, 5]\n"
     ]
    }
   ],
   "source": [
    "print(py_list_numbers)"
   ]
  },
  {
   "cell_type": "code",
   "execution_count": 17,
   "id": "7cd5959d",
   "metadata": {},
   "outputs": [
    {
     "data": {
      "text/plain": [
       "3.0"
      ]
     },
     "execution_count": 17,
     "metadata": {},
     "output_type": "execute_result"
    }
   ],
   "source": [
    "# Calculating Mean using Python Lists\n",
    "sum(py_list_numbers)/len(py_list_numbers)"
   ]
  },
  {
   "cell_type": "code",
   "execution_count": null,
   "id": "8bda0626",
   "metadata": {},
   "outputs": [
    {
     "data": {
      "text/plain": [
       "np.float64(3.0)"
      ]
     },
     "execution_count": 21,
     "metadata": {},
     "output_type": "execute_result"
    }
   ],
   "source": [
    "# Calculating Mean using np arrays\n",
    "np_numbers.mean() # mean is an intrinsic method of this array\n",
    "# or\n",
    "np.mean(np_numbers) # mean is a function defined inside np package"
   ]
  },
  {
   "cell_type": "code",
   "execution_count": 19,
   "id": "ffa23ac3",
   "metadata": {},
   "outputs": [
    {
     "data": {
      "text/plain": [
       "np.float64(1.4142135623730951)"
      ]
     },
     "execution_count": 19,
     "metadata": {},
     "output_type": "execute_result"
    }
   ],
   "source": [
    "# Calculating standard deviation (np)\n",
    "np_numbers.std()"
   ]
  },
  {
   "attachments": {},
   "cell_type": "markdown",
   "id": "123456",
   "metadata": {},
   "source": [
    "## Footnotes"
   ]
  }
 ],
 "metadata": {
  "kernelspec": {
   "display_name": "base",
   "language": "python",
   "name": "python3"
  },
  "language_info": {
   "codemirror_mode": {
    "name": "ipython",
    "version": 3
   },
   "file_extension": ".py",
   "mimetype": "text/x-python",
   "name": "python",
   "nbconvert_exporter": "python",
   "pygments_lexer": "ipython3",
   "version": "3.13.5"
  },
  "toc": {
   "base_numbering": 1,
   "nav_menu": {},
   "number_sections": true,
   "sideBar": true,
   "skip_h1_title": false,
   "title_cell": "Table of Contents",
   "title_sidebar": "Contents",
   "toc_cell": false,
   "toc_position": {},
   "toc_section_display": true,
   "toc_window_display": false
  }
 },
 "nbformat": 4,
 "nbformat_minor": 5
}
